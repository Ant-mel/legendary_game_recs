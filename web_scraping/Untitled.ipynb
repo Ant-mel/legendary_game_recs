{
 "cells": [
  {
   "cell_type": "code",
   "execution_count": 10,
   "id": "05e80d79",
   "metadata": {},
   "outputs": [],
   "source": [
    "import requests\n",
    "from bs4 import BeautifulSoup\n",
    "\n",
    "url = \"https://www.backloggd.com/games/the-legend-of-zelda-breath-of-the-wild/\"\n",
    "response = requests.get(url)\n"
   ]
  },
  {
   "cell_type": "code",
   "execution_count": 11,
   "id": "757c7acd",
   "metadata": {},
   "outputs": [],
   "source": [
    "soup = BeautifulSoup(response.content, \"html.parser\")"
   ]
  },
  {
   "cell_type": "code",
   "execution_count": 17,
   "id": "75bf830c",
   "metadata": {},
   "outputs": [
    {
     "data": {
      "text/plain": [
       "'The Legend of Zelda: Breath of the Wild'"
      ]
     },
     "execution_count": 17,
     "metadata": {},
     "output_type": "execute_result"
    }
   ],
   "source": [
    "soup.find('h1', class_= 'mb-0').string\n"
   ]
  },
  {
   "cell_type": "code",
   "execution_count": 28,
   "id": "92d36bae",
   "metadata": {},
   "outputs": [],
   "source": [
    "ratings = soup.find_all('div', class_=\"col px-0 top-tooltip\")\n",
    "#print(title)\n",
    "#print(rate05)"
   ]
  },
  {
   "cell_type": "code",
   "execution_count": 32,
   "id": "7dba9c49",
   "metadata": {},
   "outputs": [
    {
     "data": {
      "text/plain": [
       "<div class=\"col px-0 top-tooltip\" data-tippy-content=\"102 | 0.5 ★ Ratings (0.4%)\">\n",
       "<a class=\"d-block h-100\" href=\"/logs/the-legend-of-zelda-breath-of-the-wild/plays/1/\">\n",
       "<div class=\"bar-h\" style=\"height: 0.777676120768527%;\"></div>\n",
       "</a>\n",
       "</div>"
      ]
     },
     "execution_count": 32,
     "metadata": {},
     "output_type": "execute_result"
    }
   ],
   "source": [
    "ratings[0]"
   ]
  },
  {
   "cell_type": "code",
   "execution_count": 35,
   "id": "0be1f458",
   "metadata": {},
   "outputs": [
    {
     "data": {
      "text/plain": [
       "'102 | 0.5 ★ Ratings (0.4%)'"
      ]
     },
     "execution_count": 35,
     "metadata": {},
     "output_type": "execute_result"
    }
   ],
   "source": [
    "ratings[0]['data-tippy-content']"
   ]
  },
  {
   "cell_type": "code",
   "execution_count": 39,
   "id": "24ca6c9a",
   "metadata": {},
   "outputs": [
    {
     "data": {
      "text/plain": [
       "'102'"
      ]
     },
     "execution_count": 39,
     "metadata": {},
     "output_type": "execute_result"
    }
   ],
   "source": [
    "ratings[0]['data-tippy-content'].split(' |')[0]"
   ]
  },
  {
   "cell_type": "code",
   "execution_count": null,
   "id": "e340657f",
   "metadata": {},
   "outputs": [],
   "source": [
    "soup.find('img', class_= 'card-img height').string"
   ]
  }
 ],
 "metadata": {
  "kernelspec": {
   "display_name": "Python 3 (ipykernel)",
   "language": "python",
   "name": "python3"
  },
  "language_info": {
   "codemirror_mode": {
    "name": "ipython",
    "version": 3
   },
   "file_extension": ".py",
   "mimetype": "text/x-python",
   "name": "python",
   "nbconvert_exporter": "python",
   "pygments_lexer": "ipython3",
   "version": "3.10.6"
  },
  "toc": {
   "base_numbering": 1,
   "nav_menu": {},
   "number_sections": true,
   "sideBar": true,
   "skip_h1_title": false,
   "title_cell": "Table of Contents",
   "title_sidebar": "Contents",
   "toc_cell": false,
   "toc_position": {},
   "toc_section_display": true,
   "toc_window_display": false
  }
 },
 "nbformat": 4,
 "nbformat_minor": 5
}
