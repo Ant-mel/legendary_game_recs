{
 "cells": [
  {
   "cell_type": "code",
   "execution_count": 1,
   "metadata": {},
   "outputs": [],
   "source": [
    "import pandas as pd\n",
    "\n",
    "import os\n",
    "import sys\n",
    "sys.path.append(\"/Users/antonis/code/Ant-mel/legendary_game_recs/\")\n",
    "\n",
    "import requests\n",
    "import time\n",
    "import datetime as datetime\n",
    "\n",
    "from bs4 import BeautifulSoup\n",
    "\n",
    "from google.cloud import bigquery"
   ]
  },
  {
   "cell_type": "code",
   "execution_count": 2,
   "metadata": {},
   "outputs": [],
   "source": [
    "client = bigquery.Client.from_service_account_json(os.environ.get('JSON_KEY'))"
   ]
  },
  {
   "cell_type": "code",
   "execution_count": 3,
   "metadata": {},
   "outputs": [],
   "source": [
    "project = os.environ.get('PROJECT')\n",
    "dataset = os.environ.get('DATASET')\n",
    "links_table = os.environ.get('LINKS_TABLE')\n",
    "game_data_table = os.environ.get('GAME_DATA_TABLE')\n",
    "missed_data_table = os.environ.get('MISSED_DATA_TABLE')\n",
    "test_table = 'test_table'\n",
    "\n",
    "# project = 'legendary-game-recs'\n",
    "# dataset = 'game_data_01_24'\n",
    "# links_table = 'game_links'\n",
    "# game_data_table = 'game_data'\n",
    "# missed_data_table = 'missed_data'\n",
    "# test_table = 'test_table'"
   ]
  },
  {
   "cell_type": "code",
   "execution_count": 4,
   "metadata": {},
   "outputs": [
    {
     "data": {
      "text/plain": [
       "'game_links'"
      ]
     },
     "execution_count": 4,
     "metadata": {},
     "output_type": "execute_result"
    }
   ],
   "source": [
    "links_table"
   ]
  },
  {
   "cell_type": "code",
   "execution_count": 5,
   "metadata": {},
   "outputs": [],
   "source": [
    "query = f\"\"\"SELECT * FROM `legendary-game-recs.game_data_01_24.game_links`\"\"\"\n",
    "\n",
    "# query = f\"\"\"SELECT * FROM `{project}.{dataset}.{links_table}\"\"\""
   ]
  },
  {
   "cell_type": "code",
   "execution_count": 6,
   "metadata": {},
   "outputs": [
    {
     "data": {
      "text/plain": [
       "'SELECT * FROM `legendary-game-recs.game_data_01_24.game_links`'"
      ]
     },
     "execution_count": 6,
     "metadata": {},
     "output_type": "execute_result"
    }
   ],
   "source": [
    "query"
   ]
  },
  {
   "cell_type": "code",
   "execution_count": 7,
   "metadata": {},
   "outputs": [],
   "source": [
    "query_job = client.query(query)"
   ]
  },
  {
   "cell_type": "code",
   "execution_count": 8,
   "metadata": {},
   "outputs": [],
   "source": [
    "results = query_job.result()"
   ]
  },
  {
   "cell_type": "code",
   "execution_count": 9,
   "metadata": {},
   "outputs": [],
   "source": [
    "data = results.to_dataframe()"
   ]
  },
  {
   "cell_type": "code",
   "execution_count": 10,
   "metadata": {},
   "outputs": [],
   "source": [
    "frame= data.drop_duplicates(subset=['game_id']).copy()"
   ]
  },
  {
   "cell_type": "code",
   "execution_count": 11,
   "metadata": {},
   "outputs": [
    {
     "data": {
      "text/html": [
       "<div>\n",
       "<style scoped>\n",
       "    .dataframe tbody tr th:only-of-type {\n",
       "        vertical-align: middle;\n",
       "    }\n",
       "\n",
       "    .dataframe tbody tr th {\n",
       "        vertical-align: top;\n",
       "    }\n",
       "\n",
       "    .dataframe thead th {\n",
       "        text-align: right;\n",
       "    }\n",
       "</style>\n",
       "<table border=\"1\" class=\"dataframe\">\n",
       "  <thead>\n",
       "    <tr style=\"text-align: right;\">\n",
       "      <th></th>\n",
       "      <th>link</th>\n",
       "      <th>game_id</th>\n",
       "    </tr>\n",
       "  </thead>\n",
       "  <tbody>\n",
       "    <tr>\n",
       "      <th>0</th>\n",
       "      <td>/games/2/</td>\n",
       "      <td>178139</td>\n",
       "    </tr>\n",
       "    <tr>\n",
       "      <th>1</th>\n",
       "      <td>/games/3/</td>\n",
       "      <td>169088</td>\n",
       "    </tr>\n",
       "    <tr>\n",
       "      <th>2</th>\n",
       "      <td>/games/7/</td>\n",
       "      <td>34297</td>\n",
       "    </tr>\n",
       "    <tr>\n",
       "      <th>3</th>\n",
       "      <td>/games/8/</td>\n",
       "      <td>131206</td>\n",
       "    </tr>\n",
       "    <tr>\n",
       "      <th>5</th>\n",
       "      <td>/games/a/</td>\n",
       "      <td>148263</td>\n",
       "    </tr>\n",
       "    <tr>\n",
       "      <th>...</th>\n",
       "      <td>...</td>\n",
       "      <td>...</td>\n",
       "    </tr>\n",
       "    <tr>\n",
       "      <th>118759</th>\n",
       "      <td>/games/kimomen-demo-kyokon-nara-school-caste-n...</td>\n",
       "      <td>280641</td>\n",
       "    </tr>\n",
       "    <tr>\n",
       "      <th>118760</th>\n",
       "      <td>/games/monster-wo-taoshite-tsuyoi-ken-ya-yoroi...</td>\n",
       "      <td>147332</td>\n",
       "    </tr>\n",
       "    <tr>\n",
       "      <th>118761</th>\n",
       "      <td>/games/that-time-i-was-about-to-do-something-i...</td>\n",
       "      <td>228990</td>\n",
       "    </tr>\n",
       "    <tr>\n",
       "      <th>118762</th>\n",
       "      <td>/games/cthulhu-saves-the-world-super-hyper-enh...</td>\n",
       "      <td>133889</td>\n",
       "    </tr>\n",
       "    <tr>\n",
       "      <th>118763</th>\n",
       "      <td>/games/almanac-of-girlswampwar-territory-and-t...</td>\n",
       "      <td>131413</td>\n",
       "    </tr>\n",
       "  </tbody>\n",
       "</table>\n",
       "<p>109069 rows × 2 columns</p>\n",
       "</div>"
      ],
      "text/plain": [
       "                                                     link game_id\n",
       "0                                               /games/2/  178139\n",
       "1                                               /games/3/  169088\n",
       "2                                               /games/7/   34297\n",
       "3                                               /games/8/  131206\n",
       "5                                               /games/a/  148263\n",
       "...                                                   ...     ...\n",
       "118759  /games/kimomen-demo-kyokon-nara-school-caste-n...  280641\n",
       "118760  /games/monster-wo-taoshite-tsuyoi-ken-ya-yoroi...  147332\n",
       "118761  /games/that-time-i-was-about-to-do-something-i...  228990\n",
       "118762  /games/cthulhu-saves-the-world-super-hyper-enh...  133889\n",
       "118763  /games/almanac-of-girlswampwar-territory-and-t...  131413\n",
       "\n",
       "[109069 rows x 2 columns]"
      ]
     },
     "execution_count": 11,
     "metadata": {},
     "output_type": "execute_result"
    }
   ],
   "source": [
    "frame"
   ]
  },
  {
   "cell_type": "code",
   "execution_count": 14,
   "metadata": {},
   "outputs": [
    {
     "name": "stdout",
     "output_type": "stream",
     "text": [
      "1\n",
      "11\n",
      "Page failure at /games/dusk/, count = 16\n",
      "21\n",
      "31\n",
      "41\n"
     ]
    }
   ],
   "source": [
    "# Setting count for montoring progress\n",
    "# Only the first 116928 are relevant\n",
    "count = 0\n",
    "\n",
    "for game in frame['link'][505:555]:\n",
    "    # Monitoring progress\n",
    "    if count % 10 == True:\n",
    "        print(count)\n",
    "    else:\n",
    "        pass\n",
    "\n",
    "    count += 1\n",
    "\n",
    "    try:\n",
    "        # Setting up the html parser + beautful soup\n",
    "        game_response = requests.get(f\"https://www.backloggd.com{game}\")\n",
    "        game_soup = BeautifulSoup(game_response.content, 'html.parser')\n",
    "\n",
    "\n",
    "        # Scraping game_id\n",
    "        game_id = game_soup.find('div', class_='card mx-auto game-cover overlay-hide')['game_id']\n",
    "\n",
    "\n",
    "        # Scraping the title\n",
    "        title = game_soup.find('h1', class_='mb-0').string\n",
    "\n",
    "        # Scraping the date, and making it DateTime\n",
    "        date_step = game_soup.find('div', class_='col-auto mt-auto pr-0')\n",
    "        date_step2 = date_step.find('a', href=True).string\n",
    "        if date_step2 == 'TBD':\n",
    "            date_as_datetime = datetime.datetime(1, 1, 1).strftime(\"%Y-%m-%d\")\n",
    "\n",
    "        else:\n",
    "            date_as_datetime = datetime.datetime.strptime(date_step2, '%b %d, %Y').strftime('%Y-%m-%d')\n",
    "\n",
    "\n",
    "        # Getting the plays, playing, backlogs and wishlist information\n",
    "\n",
    "        counter = game_soup.find('div', id='log-counters').find_all('a', class_='plays-counter')\n",
    "        plays = int(counter[0].find('p', class_='mb-0').string)\n",
    "        playing =int(counter[1].find('p', class_='mb-0').string)\n",
    "        backlogs =int(counter[2].find('p', class_='mb-0').string)\n",
    "        wishlist =int(counter[3].find('p', class_='mb-0').string)\n",
    "\n",
    "        # Get a list of publis\n",
    "        publisher_list = []\n",
    "        try:\n",
    "            publishers = game_soup.find('div', class_='col-auto pl-lg-1 sub-title').find_all('a', href=True)\n",
    "            for i in range(len(publishers)):\n",
    "                publisher_list.append(publishers[i].string)\n",
    "        except:\n",
    "            publisher_list = []\n",
    "\n",
    "        # Get Average review score\n",
    "        review_score = game_soup.find('h1', class_='text-center').string\n",
    "        if review_score == 'N/A':\n",
    "            review_score = 0\n",
    "        else:\n",
    "            review_score = float(review_score)\n",
    "\n",
    "        # Get genres\n",
    "        genres = game_soup.find_all('p', class_='genre-tag')\n",
    "        genre_list = []\n",
    "        for i in range(len(genres)):\n",
    "            genre_list.append(genres[i].string)\n",
    "\n",
    "        # Get platforms\n",
    "        platforms = game_soup.find_all('a', class_='game-page-platform')\n",
    "        platform_list = []\n",
    "        for i in range(len(platforms)):\n",
    "            platform_list.append(platforms[i].get_text(strip=True))\n",
    "\n",
    "        # Get description\n",
    "        description = game_soup.find('div', id='collapseSummary').get_text(strip=True)\n",
    "\n",
    "        # Get number of reviews - number of lists associated is here as well\n",
    "        lists_reviews = game_soup.find_all('p', class_='game-page-sidecard')\n",
    "\n",
    "        total_lists = int(lists_reviews[0].get_text(strip=True).strip(\" Lists\"))\n",
    "        total_reviews = int(lists_reviews[1].get_text(strip=True).strip(\" Reviews\"))\n",
    "\n",
    "        # Get game category + main (If applicable)\n",
    "        # If the search for category fails, then the game is the main game\n",
    "        try:\n",
    "            main_game = game_soup.find('p', class_='mb-2 game-parent-category').find('a').get_text()\n",
    "            full_sentence = game_soup.find('p', class_='mb-2 game-parent-category').get_text()\n",
    "            category = full_sentence.replace(main_game, '').strip()\n",
    "        except:\n",
    "            main_game = title\n",
    "            category = 'main'\n",
    "\n",
    "        # Get ratings, ten categories from 0.5 to 5.0\n",
    "\n",
    "        ratings = game_soup.find_all('div', class_=\"col px-0 top-tooltip\")\n",
    "\n",
    "        ratings_zero_five = int(ratings[0]['data-tippy-content'].split(' |')[0])\n",
    "        ratings_one_zero = int(ratings[1]['data-tippy-content'].split(' |')[0])\n",
    "        ratings_one_five = int(ratings[2]['data-tippy-content'].split(' |')[0])\n",
    "        ratings_two_zero = int(ratings[3]['data-tippy-content'].split(' |')[0])\n",
    "        ratings_two_five = int(ratings[4]['data-tippy-content'].split(' |')[0])\n",
    "        ratings_three_zero = int(ratings[5]['data-tippy-content'].split(' |')[0])\n",
    "        ratings_three_five = int(ratings[6]['data-tippy-content'].split(' |')[0])\n",
    "        ratings_four_zero = int(ratings[7]['data-tippy-content'].split(' |')[0])\n",
    "        ratings_four_five = int(ratings[8]['data-tippy-content'].split(' |')[0])\n",
    "        ratings_five_zero = int(ratings[9]['data-tippy-content'].split(' |')[0])\n",
    "\n",
    "        # Creating a dictionary to insert into GCP\n",
    "        data_dict = {'title': title,\n",
    "                        'release_date': date_as_datetime,\n",
    "                        'plays':plays,\n",
    "                        'playing':playing,\n",
    "                        'backlogs':backlogs,\n",
    "                        'wishlist':wishlist,\n",
    "                        'developers':str(publisher_list),\n",
    "                        'avg_review':review_score,\n",
    "                        'genres':str(genre_list),\n",
    "                        'platforms':str(platform_list),\n",
    "                        'description':description,\n",
    "                        'total_reviews':total_reviews,\n",
    "                        'total_lists':total_lists,\n",
    "                        'category':category,\n",
    "                        'main':main_game,\n",
    "                        'ratings_zero_five':ratings_zero_five,\n",
    "                        'ratings_one_zero':ratings_one_zero,\n",
    "                        'ratings_one_five':ratings_one_five,\n",
    "                        'ratings_two_zero':ratings_two_zero,\n",
    "                        'ratings_two_five':ratings_two_five,\n",
    "                        'ratings_three_zero':ratings_three_zero,\n",
    "                        'ratings_three_five':ratings_three_five,\n",
    "                        'ratings_four_zero':ratings_four_zero,\n",
    "                        'ratings_four_five':ratings_four_five,\n",
    "                        'ratings_five_zero':ratings_five_zero,\n",
    "                        'url':game,\n",
    "                        'game_id':game_id}\n",
    "\n",
    "        # Inserting into GCP\n",
    "        table = client.dataset(dataset).table(game_data_table)\n",
    "        errors = client.insert_rows_json(table, [data_dict])\n",
    "\n",
    "        # Relaying errors for some sexy debugging\n",
    "        if errors:\n",
    "            print(f'Failed {game}, {errors}')\n",
    "            #Saving missed data, so we can try get it later\n",
    "            table = client.dataset(dataset).table(missed_data_table)\n",
    "            errors = client.insert_rows_json(table, [{'link':game}])\n",
    "        else:\n",
    "            pass\n",
    "\n",
    "\n",
    "    except:\n",
    "        # Relaying when Backlogged rejects us\n",
    "        print(f'Page failure at {game}, count = {count}')\n",
    "        #Saving missed data, so we can try get it later\n",
    "        table = client.dataset(dataset).table(missed_data_table)\n",
    "        errors = client.insert_rows_json(table, [{'link':game}])\n",
    "\n",
    "        time.sleep(2)\n"
   ]
  },
  {
   "cell_type": "code",
   "execution_count": null,
   "metadata": {},
   "outputs": [],
   "source": []
  }
 ],
 "metadata": {
  "kernelspec": {
   "display_name": "lewagon",
   "language": "python",
   "name": "python3"
  },
  "language_info": {
   "codemirror_mode": {
    "name": "ipython",
    "version": 3
   },
   "file_extension": ".py",
   "mimetype": "text/x-python",
   "name": "python",
   "nbconvert_exporter": "python",
   "pygments_lexer": "ipython3",
   "version": "3.10.6"
  }
 },
 "nbformat": 4,
 "nbformat_minor": 2
}
