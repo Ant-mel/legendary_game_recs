{
 "cells": [
  {
   "cell_type": "code",
   "execution_count": 1,
   "id": "a781b789",
   "metadata": {},
   "outputs": [],
   "source": [
    "import pandas as pd"
   ]
  },
  {
   "cell_type": "code",
   "execution_count": 23,
   "id": "87770cf4",
   "metadata": {},
   "outputs": [],
   "source": [
    "mised_1 = pd.read_csv('../raw_data/final_scrape_missed_0to10k')\n",
    "mised_2 = pd.read_csv('../raw_data/final_scrape_missed_10to40k')\n",
    "mised_3 = pd.read_csv('../raw_data/final_scrape_missed_40to50k')\n",
    "mised_4 = pd.read_csv('../raw_data/final_scrape_missed_50to60k')\n",
    "mised_5 = pd.read_csv('../raw_data/final_scrape_missed_60to70k')\n",
    "mised_6 = pd.read_csv('../raw_data/final_scrape_missed_70to80k')\n",
    "mised_7 = pd.read_csv('../raw_data/final_scrape_missed_80to90k')\n",
    "mised_8 = pd.read_csv('../raw_data/final_scrape_missed_90to120k')\n"
   ]
  },
  {
   "cell_type": "code",
   "execution_count": 14,
   "id": "205bcf72",
   "metadata": {},
   "outputs": [],
   "source": [
    "missed_data = []\n",
    "\n",
    "missed_data.extend(list(mised_1.columns))\n",
    "missed_data.extend(list(mised_2.columns))\n",
    "missed_data.extend(list(mised_3.columns))\n",
    "missed_data.extend(list(mised_4.columns))\n",
    "missed_data.extend(list(mised_5.columns))\n",
    "missed_data.extend(list(mised_6.columns))\n",
    "missed_data.extend(list(mised_7.columns))\n",
    "missed_data.extend(list(mised_8.columns))"
   ]
  },
  {
   "cell_type": "code",
   "execution_count": 24,
   "id": "3b2af1f7",
   "metadata": {},
   "outputs": [],
   "source": [
    "missed_data = list(mised_1.columns) + list(mised_2.columns) + list(mised_3.columns) + list(mised_4.columns) + list(mised_5.columns) + list(mised_6.columns) + list(mised_7.columns) + list(mised_8.columns)"
   ]
  },
  {
   "cell_type": "code",
   "execution_count": 33,
   "id": "5909fb4c",
   "metadata": {},
   "outputs": [
    {
     "data": {
      "text/plain": [
       "114"
      ]
     },
     "execution_count": 33,
     "metadata": {},
     "output_type": "execute_result"
    }
   ],
   "source": [
    "len(list(mised_8.columns))"
   ]
  },
  {
   "cell_type": "code",
   "execution_count": 11,
   "id": "cd247dc2",
   "metadata": {},
   "outputs": [],
   "source": [
    "raw_1 = pd.read_csv('../raw_data/Old Data/all_data_batch_0to30k')\n",
    "raw_2 = pd.read_csv('../raw_data/Old Data/all_data_batch1_30to60k')\n",
    "raw_3 = pd.read_csv('../raw_data/Old Data/all_data_batch_60kto70k')\n",
    "raw_4 = pd.read_csv('../raw_data/Old Data/all_data_batch_70kto80k')\n",
    "raw_5 = pd.read_csv('../raw_data/Old Data/all_data_batch_80kto90k')\n",
    "raw_6 = pd.read_csv('../raw_data/Old Data/all_data_batch_90kto120k')"
   ]
  },
  {
   "cell_type": "code",
   "execution_count": 9,
   "id": "e14d96a0",
   "metadata": {},
   "outputs": [],
   "source": [
    "data = pd.concat((raw_1, raw_2, raw_3, raw_4, raw_5, raw_6), ignore_index=True)"
   ]
  },
  {
   "cell_type": "code",
   "execution_count": 10,
   "id": "cd596060",
   "metadata": {},
   "outputs": [],
   "source": [
    "data.to_csv('../raw_data/all_game_data_v1_corrected2', index=False)"
   ]
  },
  {
   "cell_type": "code",
   "execution_count": null,
   "id": "f460e3c0",
   "metadata": {},
   "outputs": [],
   "source": []
  }
 ],
 "metadata": {
  "kernelspec": {
   "display_name": "Python 3 (ipykernel)",
   "language": "python",
   "name": "python3"
  },
  "language_info": {
   "codemirror_mode": {
    "name": "ipython",
    "version": 3
   },
   "file_extension": ".py",
   "mimetype": "text/x-python",
   "name": "python",
   "nbconvert_exporter": "python",
   "pygments_lexer": "ipython3",
   "version": "3.10.6"
  },
  "toc": {
   "base_numbering": 1,
   "nav_menu": {},
   "number_sections": true,
   "sideBar": true,
   "skip_h1_title": false,
   "title_cell": "Table of Contents",
   "title_sidebar": "Contents",
   "toc_cell": false,
   "toc_position": {},
   "toc_section_display": true,
   "toc_window_display": false
  }
 },
 "nbformat": 4,
 "nbformat_minor": 5
}
