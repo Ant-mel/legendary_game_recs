{
 "cells": [
  {
   "cell_type": "code",
   "execution_count": 31,
   "metadata": {},
   "outputs": [],
   "source": [
    "import sys\n",
    "import pandas as pd\n",
    "from sklearn.pipeline import Pipeline\n",
    "from sklearn.preprocessing import FunctionTransformer\n",
    "from sklearn import set_config; set_config(display='diagram')\n",
    "\n",
    "sys.path.append(\"/Users/antonis/code/Ant-mel/legendary_game_recs/\")\n",
    "from preprocessing.preprocess_1_cleaning import *\n",
    "from sklearn.compose import ColumnTransformer\n",
    "\n",
    "from sklearn.pipeline import make_pipeline\n",
    "from sklearn.pipeline import make_union\n",
    "from sklearn.compose import make_column_transformer\n",
    "\n"
   ]
  },
  {
   "cell_type": "code",
   "execution_count": 4,
   "metadata": {},
   "outputs": [],
   "source": [
    "data = pd.read_csv('../raw_data/all_game_data_v1_corrected2', low_memory=False)"
   ]
  },
  {
   "cell_type": "code",
   "execution_count": 40,
   "metadata": {},
   "outputs": [
    {
     "data": {
      "text/plain": [
       "\"['Indie', 'Racing', 'Sport']\""
      ]
     },
     "execution_count": 40,
     "metadata": {},
     "output_type": "execute_result"
    }
   ],
   "source": [
    "data['genres'][0]"
   ]
  },
  {
   "cell_type": "code",
   "execution_count": null,
   "metadata": {},
   "outputs": [],
   "source": []
  },
  {
   "cell_type": "code",
   "execution_count": 55,
   "metadata": {},
   "outputs": [],
   "source": [
    "def remove_no_reviews(df):\n",
    "    df_good_mask = df['avg_review'] != 0\n",
    "    df_with_reviews = df[df_good_mask]\n",
    "    return df_with_reviews\n",
    "\n",
    "def test(df_column):\n",
    "    for i, x in df_column:\n",
    "        x_new_slice = x[2:-2]\n",
    "        x_new_replace = x_new_slice.replace(\"'\", '').split(',')\n",
    "        \n",
    "        df_column[i] = x_new_replace\n",
    "    \n",
    "    return df_column\n",
    "        \n",
    "\n",
    "#Ant Reworking functions below for pipeline\n",
    "def make_stringlist_list2(series):\n",
    "    '''This removes square brackets, and splits the string by comma to the create a list'''\n",
    "    for x in series:\n",
    "        string = series[x]\n",
    "        list_of_strings = string[2:-2].replace(\"'\", '').split(',')\n",
    "        return list_of_strings\n",
    "\n",
    "# def remove_whitespace2(list_):\n",
    "#     '''This removes whitesapces from items within lists'''\n",
    "#     empty = []\n",
    "\n",
    "#     for i in range(len(list_)):\n",
    "#         item = list_[i].strip()\n",
    "#         empty.append(item)\n",
    "#     return empty\n",
    "\n",
    "# def clean_stringlists2(df):\n",
    "#     '''For lists that were imported as strings, this removes square brackers and cleans up trailing whitespaces'''\n",
    "#     string_to_list_df = df.apply(make_stringlist_list2)\n",
    "#     remove_whitespace_df = string_to_list_df.apply(remove_whitespace2)\n",
    "\n",
    "#     return remove_whitespace_df"
   ]
  },
  {
   "cell_type": "code",
   "execution_count": 32,
   "metadata": {},
   "outputs": [],
   "source": [
    "drop_dupes = FunctionTransformer(drop_duplicates)\n",
    "remove_0_reviews = FunctionTransformer(remove_no_reviews)\n",
    "clean_strings = FunctionTransformer(clean_stringlists2)\n",
    "\n",
    "\n",
    "pipeline = Pipeline([('drop_duplicates', drop_dupes),\n",
    "                     ('remove_no_reviews', remove_0_reviews)])\n",
    "\n",
    "column_cleaner = ColumnTransformer([('making_categories_lists', clean_strings, ['genres', 'developers', 'platforms'])],remainder='passthrough')\n",
    "\n",
    "pipeline2 = make_pipeline(pipeline, column_cleaner)"
   ]
  },
  {
   "cell_type": "code",
   "execution_count": null,
   "metadata": {},
   "outputs": [],
   "source": []
  }
 ],
 "metadata": {
  "kernelspec": {
   "display_name": "lewagon",
   "language": "python",
   "name": "python3"
  },
  "language_info": {
   "codemirror_mode": {
    "name": "ipython",
    "version": 3
   },
   "file_extension": ".py",
   "mimetype": "text/x-python",
   "name": "python",
   "nbconvert_exporter": "python",
   "pygments_lexer": "ipython3",
   "version": "3.10.6"
  },
  "orig_nbformat": 4
 },
 "nbformat": 4,
 "nbformat_minor": 2
}
