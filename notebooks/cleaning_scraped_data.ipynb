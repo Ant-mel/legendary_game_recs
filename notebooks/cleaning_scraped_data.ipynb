{
 "cells": [
  {
   "cell_type": "markdown",
   "metadata": {},
   "source": [
    "# Data exploration and cleanup"
   ]
  },
  {
   "cell_type": "code",
   "execution_count": 1,
   "metadata": {},
   "outputs": [],
   "source": [
    "import sys\n",
    "import pandas as pd\n",
    "import matplotlib.pyplot as plt\n",
    "\n",
    "sys.path.append(\"/Users/antonis/code/Ant-mel/legendary_game_recs/\")\n",
    "from preprocessing.preprocess_1_cleaning import *\n",
    "from preprocessing.preprocess_2_features import *\n",
    "\n",
    "from sklearn.preprocessing import MultiLabelBinarizer\n"
   ]
  },
  {
   "cell_type": "markdown",
   "metadata": {},
   "source": [
    "# Exploring the data"
   ]
  },
  {
   "cell_type": "markdown",
   "metadata": {},
   "source": [
    "Data had to be scraped in small batches else it failed. \n",
    "\n",
    "When scraped during the day, batches would only be 10k as it would crash sooner and the person scraping could take brakes inbetween for whatever reason. \n",
    "\n",
    "For reference - a 10k batch would take 2.5 hours"
   ]
  },
  {
   "cell_type": "code",
   "execution_count": 2,
   "metadata": {},
   "outputs": [],
   "source": [
    "set_1 = pd.read_csv('../raw_data/final_scrape_0to10k')\n",
    "set_2 = pd.read_csv('../raw_data/final_scrape_10kto40k')\n",
    "set_3 = pd.read_csv('../raw_data/final_scrape_40kto50k')\n",
    "set_4 = pd.read_csv('../raw_data/final_scrape_50kto60k')\n",
    "set_5 = pd.read_csv('../raw_data/final_scrape_60kto70k')\n",
    "set_6 = pd.read_csv('../raw_data/final_scrape_70kto80k')\n",
    "set_7 = pd.read_csv('../raw_data/final_scrape_80kto90k')\n",
    "set_8 = pd.read_csv('../raw_data/final_scrape_90kto120k')\n"
   ]
  },
  {
   "cell_type": "code",
   "execution_count": 3,
   "metadata": {},
   "outputs": [],
   "source": [
    "data = pd.concat((set_1, set_2, set_3, set_4, set_5, set_6, set_7, set_8))\n"
   ]
  },
  {
   "cell_type": "code",
   "execution_count": 4,
   "metadata": {},
   "outputs": [
    {
     "data": {
      "text/plain": [
       "(111951, 27)"
      ]
     },
     "execution_count": 4,
     "metadata": {},
     "output_type": "execute_result"
    }
   ],
   "source": [
    "data.shape\n"
   ]
  },
  {
   "cell_type": "code",
   "execution_count": 5,
   "metadata": {},
   "outputs": [
    {
     "data": {
      "text/html": [
       "<div>\n",
       "<style scoped>\n",
       "    .dataframe tbody tr th:only-of-type {\n",
       "        vertical-align: middle;\n",
       "    }\n",
       "\n",
       "    .dataframe tbody tr th {\n",
       "        vertical-align: top;\n",
       "    }\n",
       "\n",
       "    .dataframe thead th {\n",
       "        text-align: right;\n",
       "    }\n",
       "</style>\n",
       "<table border=\"1\" class=\"dataframe\">\n",
       "  <thead>\n",
       "    <tr style=\"text-align: right;\">\n",
       "      <th></th>\n",
       "      <th>title</th>\n",
       "      <th>release_date</th>\n",
       "      <th>plays</th>\n",
       "      <th>playing</th>\n",
       "      <th>backlogs</th>\n",
       "      <th>wishlist</th>\n",
       "      <th>developers</th>\n",
       "      <th>avg_review</th>\n",
       "      <th>genres</th>\n",
       "      <th>platforms</th>\n",
       "      <th>...</th>\n",
       "      <th>ratings_one_five</th>\n",
       "      <th>ratings_two_zero</th>\n",
       "      <th>ratings_two_five</th>\n",
       "      <th>ratings_three_zero</th>\n",
       "      <th>ratings_three_five</th>\n",
       "      <th>ratings_four_zero</th>\n",
       "      <th>ratings_four_five</th>\n",
       "      <th>ratings_five_zero</th>\n",
       "      <th>url</th>\n",
       "      <th>game_id</th>\n",
       "    </tr>\n",
       "  </thead>\n",
       "  <tbody>\n",
       "    <tr>\n",
       "      <th>0</th>\n",
       "      <td>PilotXross</td>\n",
       "      <td>2030-12-20</td>\n",
       "      <td>1</td>\n",
       "      <td>0</td>\n",
       "      <td>2</td>\n",
       "      <td>2</td>\n",
       "      <td>['PilotXross']</td>\n",
       "      <td>0.0</td>\n",
       "      <td>['Indie', 'Racing', 'Sport']</td>\n",
       "      <td>['SteamVR']</td>\n",
       "      <td>...</td>\n",
       "      <td>0</td>\n",
       "      <td>0</td>\n",
       "      <td>0</td>\n",
       "      <td>0</td>\n",
       "      <td>0</td>\n",
       "      <td>0</td>\n",
       "      <td>0</td>\n",
       "      <td>0</td>\n",
       "      <td>/games/pilotxross/</td>\n",
       "      <td>123757</td>\n",
       "    </tr>\n",
       "    <tr>\n",
       "      <th>1</th>\n",
       "      <td>Plague Hunter</td>\n",
       "      <td>2029-02-07</td>\n",
       "      <td>0</td>\n",
       "      <td>0</td>\n",
       "      <td>2</td>\n",
       "      <td>7</td>\n",
       "      <td>[]</td>\n",
       "      <td>0.0</td>\n",
       "      <td>['Adventure', 'Indie']</td>\n",
       "      <td>['Windows PC']</td>\n",
       "      <td>...</td>\n",
       "      <td>0</td>\n",
       "      <td>0</td>\n",
       "      <td>0</td>\n",
       "      <td>0</td>\n",
       "      <td>0</td>\n",
       "      <td>0</td>\n",
       "      <td>0</td>\n",
       "      <td>0</td>\n",
       "      <td>/games/plague-hunter/</td>\n",
       "      <td>106694</td>\n",
       "    </tr>\n",
       "    <tr>\n",
       "      <th>2</th>\n",
       "      <td>The God Slayer</td>\n",
       "      <td>2027-12-31</td>\n",
       "      <td>1</td>\n",
       "      <td>0</td>\n",
       "      <td>1</td>\n",
       "      <td>11</td>\n",
       "      <td>['Pathea Games']</td>\n",
       "      <td>0.0</td>\n",
       "      <td>['RPG']</td>\n",
       "      <td>['PlayStation 5']</td>\n",
       "      <td>...</td>\n",
       "      <td>0</td>\n",
       "      <td>0</td>\n",
       "      <td>0</td>\n",
       "      <td>0</td>\n",
       "      <td>0</td>\n",
       "      <td>0</td>\n",
       "      <td>0</td>\n",
       "      <td>0</td>\n",
       "      <td>/games/the-god-slayer/</td>\n",
       "      <td>259874</td>\n",
       "    </tr>\n",
       "    <tr>\n",
       "      <th>3</th>\n",
       "      <td>Rise of Rebellion</td>\n",
       "      <td>2025-12-31</td>\n",
       "      <td>0</td>\n",
       "      <td>0</td>\n",
       "      <td>0</td>\n",
       "      <td>2</td>\n",
       "      <td>['KODANSHA']</td>\n",
       "      <td>0.0</td>\n",
       "      <td>['Adventure']</td>\n",
       "      <td>['Windows PC']</td>\n",
       "      <td>...</td>\n",
       "      <td>0</td>\n",
       "      <td>0</td>\n",
       "      <td>0</td>\n",
       "      <td>0</td>\n",
       "      <td>0</td>\n",
       "      <td>0</td>\n",
       "      <td>0</td>\n",
       "      <td>0</td>\n",
       "      <td>/games/rise-of-rebellion/</td>\n",
       "      <td>211568</td>\n",
       "    </tr>\n",
       "    <tr>\n",
       "      <th>4</th>\n",
       "      <td>Penny Blood</td>\n",
       "      <td>2025-12-31</td>\n",
       "      <td>1</td>\n",
       "      <td>0</td>\n",
       "      <td>27</td>\n",
       "      <td>124</td>\n",
       "      <td>[]</td>\n",
       "      <td>0.0</td>\n",
       "      <td>['RPG']</td>\n",
       "      <td>['Windows PC', 'PlayStation 5', 'Xbox Series']</td>\n",
       "      <td>...</td>\n",
       "      <td>0</td>\n",
       "      <td>0</td>\n",
       "      <td>0</td>\n",
       "      <td>0</td>\n",
       "      <td>0</td>\n",
       "      <td>0</td>\n",
       "      <td>0</td>\n",
       "      <td>0</td>\n",
       "      <td>/games/penny-blood/</td>\n",
       "      <td>214912</td>\n",
       "    </tr>\n",
       "  </tbody>\n",
       "</table>\n",
       "<p>5 rows × 27 columns</p>\n",
       "</div>"
      ],
      "text/plain": [
       "               title release_date plays playing backlogs wishlist  \\\n",
       "0         PilotXross   2030-12-20     1       0        2        2   \n",
       "1      Plague Hunter   2029-02-07     0       0        2        7   \n",
       "2     The God Slayer   2027-12-31     1       0        1       11   \n",
       "3  Rise of Rebellion   2025-12-31     0       0        0        2   \n",
       "4        Penny Blood   2025-12-31     1       0       27      124   \n",
       "\n",
       "         developers  avg_review                        genres  \\\n",
       "0    ['PilotXross']         0.0  ['Indie', 'Racing', 'Sport']   \n",
       "1                []         0.0        ['Adventure', 'Indie']   \n",
       "2  ['Pathea Games']         0.0                       ['RPG']   \n",
       "3      ['KODANSHA']         0.0                 ['Adventure']   \n",
       "4                []         0.0                       ['RPG']   \n",
       "\n",
       "                                        platforms  ... ratings_one_five  \\\n",
       "0                                     ['SteamVR']  ...                0   \n",
       "1                                  ['Windows PC']  ...                0   \n",
       "2                               ['PlayStation 5']  ...                0   \n",
       "3                                  ['Windows PC']  ...                0   \n",
       "4  ['Windows PC', 'PlayStation 5', 'Xbox Series']  ...                0   \n",
       "\n",
       "  ratings_two_zero ratings_two_five ratings_three_zero ratings_three_five  \\\n",
       "0                0                0                  0                  0   \n",
       "1                0                0                  0                  0   \n",
       "2                0                0                  0                  0   \n",
       "3                0                0                  0                  0   \n",
       "4                0                0                  0                  0   \n",
       "\n",
       "   ratings_four_zero  ratings_four_five  ratings_five_zero  \\\n",
       "0                  0                  0                  0   \n",
       "1                  0                  0                  0   \n",
       "2                  0                  0                  0   \n",
       "3                  0                  0                  0   \n",
       "4                  0                  0                  0   \n",
       "\n",
       "                         url  game_id  \n",
       "0         /games/pilotxross/   123757  \n",
       "1      /games/plague-hunter/   106694  \n",
       "2     /games/the-god-slayer/   259874  \n",
       "3  /games/rise-of-rebellion/   211568  \n",
       "4        /games/penny-blood/   214912  \n",
       "\n",
       "[5 rows x 27 columns]"
      ]
     },
     "execution_count": 5,
     "metadata": {},
     "output_type": "execute_result"
    }
   ],
   "source": [
    "data.head()\n"
   ]
  },
  {
   "cell_type": "markdown",
   "metadata": {},
   "source": [
    "### Dealing with Duplicates\n",
    "\n",
    "10,000 duplicates!!!"
   ]
  },
  {
   "cell_type": "code",
   "execution_count": 6,
   "metadata": {},
   "outputs": [],
   "source": [
    "# Copying data before adjusting\n",
    "working_data = data.copy()\n"
   ]
  },
  {
   "cell_type": "code",
   "execution_count": 7,
   "metadata": {},
   "outputs": [
    {
     "data": {
      "text/plain": [
       "859"
      ]
     },
     "execution_count": 7,
     "metadata": {},
     "output_type": "execute_result"
    }
   ],
   "source": [
    "working_data[['title', 'release_date']].duplicated().sum()\n"
   ]
  },
  {
   "cell_type": "code",
   "execution_count": 8,
   "metadata": {},
   "outputs": [],
   "source": [
    "working_data.drop_duplicates(subset=['title'],inplace=True)\n"
   ]
  },
  {
   "cell_type": "code",
   "execution_count": 9,
   "metadata": {},
   "outputs": [
    {
     "data": {
      "text/plain": [
       "0"
      ]
     },
     "execution_count": 9,
     "metadata": {},
     "output_type": "execute_result"
    }
   ],
   "source": [
    "working_data[['title']].duplicated().sum()\n"
   ]
  },
  {
   "cell_type": "markdown",
   "metadata": {},
   "source": [
    "### Incorrect dtypes\n",
    "\n",
    "- release_date - Needs to be a datetime, but not important for the model, only important for the front-end\n",
    "- developers, genres, platforms - change to lists (Currently they are strings that look like lists)\n",
    "- plays, platying, backlogs, wishlists, total_reviews_total_lists - 'k' needs to be removed to make them all int\n"
   ]
  },
  {
   "cell_type": "code",
   "execution_count": 10,
   "metadata": {},
   "outputs": [],
   "source": [
    "# Adjusting 'fake' lists to real lists\n",
    "string_to_list_colums = ['developers','genres','platforms']\n",
    "working_data[string_to_list_colums] = make_list_columns_to_lists(working_data, string_to_list_colums)\n"
   ]
  },
  {
   "cell_type": "code",
   "execution_count": 11,
   "metadata": {},
   "outputs": [],
   "source": [
    "# Turning numeric object columns into int\n",
    "numeric_columns = ['plays','playing','backlogs','wishlist','total_reviews','total_lists']\n",
    "\n",
    "for col in numeric_columns:\n",
    "    numeric_objects_reformatted(working_data, col)\n"
   ]
  },
  {
   "cell_type": "markdown",
   "metadata": {},
   "source": [
    "#### Removing games with release date 0001-01-01"
   ]
  },
  {
   "cell_type": "code",
   "execution_count": 12,
   "metadata": {},
   "outputs": [],
   "source": [
    "year_1_mask = working_data['release_date'] == '0001-01-01'\n"
   ]
  },
  {
   "cell_type": "code",
   "execution_count": 13,
   "metadata": {},
   "outputs": [],
   "source": [
    "games_that_exist = working_data[~year_1_mask]\n"
   ]
  },
  {
   "cell_type": "code",
   "execution_count": 14,
   "metadata": {},
   "outputs": [
    {
     "data": {
      "text/plain": [
       "(106701, 27)"
      ]
     },
     "execution_count": 14,
     "metadata": {},
     "output_type": "execute_result"
    }
   ],
   "source": [
    "games_that_exist.shape\n"
   ]
  },
  {
   "cell_type": "markdown",
   "metadata": {},
   "source": [
    "## Dealing with non-main games\n",
    "\n",
    "DLC, expansions and mods should not be part of the video game recomendations (but perhaps something we can do in future❓)"
   ]
  },
  {
   "cell_type": "code",
   "execution_count": 15,
   "metadata": {},
   "outputs": [],
   "source": [
    "# removing main games and dropping categories column\n",
    "# as its no longer useful\n",
    "\n",
    "only_main_games = only_main_games(games_that_exist)\n"
   ]
  },
  {
   "cell_type": "code",
   "execution_count": 16,
   "metadata": {},
   "outputs": [
    {
     "data": {
      "text/plain": [
       "(93321, 26)"
      ]
     },
     "execution_count": 16,
     "metadata": {},
     "output_type": "execute_result"
    }
   ],
   "source": [
    "only_main_games.shape\n"
   ]
  },
  {
   "cell_type": "markdown",
   "metadata": {},
   "source": [
    "### Cleaning our y\n",
    "\n",
    "avg_reviews is currently our y\n",
    "\n",
    "In the dataset, 64404 games do not have an avg_review, which means they have been reviewd less than 3 times. \n",
    "\n",
    "We are happy to remove these games as we choose not to recommend games that we assume have not been played buy humans."
   ]
  },
  {
   "cell_type": "code",
   "execution_count": 17,
   "metadata": {},
   "outputs": [],
   "source": [
    "main_games_dattime = change_to_datetype(only_main_games, 'release_date')\n"
   ]
  },
  {
   "cell_type": "markdown",
   "metadata": {},
   "source": [
    "We need to seperate upcoming games so we can make recommend them to users - these would otherwise be removed as they cannot have reviews, and we drop games with a review score of 0\n",
    "\n",
    "note: Review scores cannot be zero as the lowers review is 0.5"
   ]
  },
  {
   "cell_type": "code",
   "execution_count": 18,
   "metadata": {},
   "outputs": [],
   "source": [
    "upcoming_mask = main_games_dattime['release_date'] > pd.Timestamp(datetime.date.today())\n",
    "upcoming_games = main_games_dattime[upcoming_mask]\n",
    "release_games = main_games_dattime[~upcoming_mask]\n"
   ]
  },
  {
   "cell_type": "code",
   "execution_count": 19,
   "metadata": {},
   "outputs": [
    {
     "data": {
      "text/plain": [
       "(37155, 26)"
      ]
     },
     "execution_count": 19,
     "metadata": {},
     "output_type": "execute_result"
    }
   ],
   "source": [
    "games_that_exist_with_reviews = remove_no_reviews(release_games)\n",
    "games_that_exist_with_reviews.shape\n"
   ]
  },
  {
   "cell_type": "markdown",
   "metadata": {},
   "source": [
    "### Creating final dataset"
   ]
  },
  {
   "cell_type": "code",
   "execution_count": 20,
   "metadata": {},
   "outputs": [],
   "source": [
    "final_data = pd.concat((upcoming_games, games_that_exist_with_reviews))\n"
   ]
  },
  {
   "cell_type": "markdown",
   "metadata": {},
   "source": [
    "## Visualising the data"
   ]
  },
  {
   "cell_type": "markdown",
   "metadata": {},
   "source": [
    "### Numeric Data"
   ]
  },
  {
   "cell_type": "code",
   "execution_count": 21,
   "metadata": {},
   "outputs": [
    {
     "data": {
      "text/plain": [
       "Text(0.5, 1.0, 'Games released per year')"
      ]
     },
     "execution_count": 21,
     "metadata": {},
     "output_type": "execute_result"
    },
    {
     "data": {
      "image/png": "[encoded data removed]",
      "text/plain": [
       "<Figure size 640x480 with 1 Axes>"
      ]
     },
     "metadata": {},
     "output_type": "display_data"
    }
   ],
   "source": [
    "final_data['release_date'].hist(bins=60)\n",
    "plt.title(\"Games released per year\")\n"
   ]
  },
  {
   "cell_type": "code",
   "execution_count": 22,
   "metadata": {},
   "outputs": [
    {
     "data": {
      "text/plain": [
       "Text(0.5, 1.0, 'Distribution of avg_review scores')"
      ]
     },
     "execution_count": 22,
     "metadata": {},
     "output_type": "execute_result"
    },
    {
     "data": {
      "image/png": "[encoded data removed]",
      "text/plain": [
       "<Figure size 640x480 with 1 Axes>"
      ]
     },
     "metadata": {},
     "output_type": "display_data"
    }
   ],
   "source": [
    "final_data['avg_review'].hist()\n",
    "plt.title('Distribution of avg_review scores')\n"
   ]
  },
  {
   "cell_type": "code",
   "execution_count": 23,
   "metadata": {},
   "outputs": [
    {
     "data": {
      "text/plain": [
       "Text(0.5, 1.0, 'Total Reviews')"
      ]
     },
     "execution_count": 23,
     "metadata": {},
     "output_type": "execute_result"
    },
    {
     "data": {
      "image/png": "[encoded data removed]",
      "text/plain": [
       "<Figure size 1000x1300 with 6 Axes>"
      ]
     },
     "metadata": {},
     "output_type": "display_data"
    }
   ],
   "source": [
    "#Visualising numeric features\n",
    "fig, axs = plt.subplots(3,2, figsize=(10, 13))\n",
    "\n",
    "axs[0,0].hist(final_data['plays'])\n",
    "axs[0,0].set_title('Total Plays')\n",
    "\n",
    "axs[0,1].hist(final_data['playing'])\n",
    "axs[0,1].set_title('Total Playing')\n",
    "\n",
    "axs[1,0].hist(final_data['wishlist'])\n",
    "axs[1,0].set_title('Total Wishlist')\n",
    "\n",
    "axs[1,1].hist(final_data['backlogs'])\n",
    "axs[1,1].set_title('Total Backlogs')\n",
    "\n",
    "axs[2,0].hist(final_data['total_lists'])\n",
    "axs[2,0].set_title('Total Lists')\n",
    "\n",
    "axs[2,1].hist(final_data['total_reviews'])\n",
    "axs[2,1].set_title('Total Reviews')\n"
   ]
  },
  {
   "cell_type": "markdown",
   "metadata": {},
   "source": [
    "There are many games that have a 0 value or near 0 value, with few having values in the thousands. \n",
    "\n",
    "This will skew the model, and bias it towards popular games\n",
    "\n",
    "Best option will be to use Yeo-Johnson Scaling - but they all look the same. How correlated are they?"
   ]
  },
  {
   "cell_type": "code",
   "execution_count": 24,
   "metadata": {},
   "outputs": [
    {
     "data": {
      "text/plain": [
       "Text(0.5, 1.0, '5')"
      ]
     },
     "execution_count": 24,
     "metadata": {},
     "output_type": "execute_result"
    },
    {
     "data": {
      "image/png": "[encoded data removed]",
      "text/plain": [
       "<Figure size 1500x800 with 10 Axes>"
      ]
     },
     "metadata": {},
     "output_type": "display_data"
    }
   ],
   "source": [
    "# Graphing the ratings_ columns\n",
    "\n",
    "fig, axs = plt.subplots(2, 5, figsize=(15, 8))\n",
    "\n",
    "axs[0,0].hist(final_data['ratings_zero_five'])\n",
    "axs[0,0].set_title('0.5')\n",
    "\n",
    "axs[0,1].hist(final_data['ratings_one_zero'])\n",
    "axs[0,1].set_title('1.0')\n",
    "\n",
    "axs[0,2].hist(final_data['ratings_one_five'])\n",
    "axs[0,2].set_title('1.5')\n",
    "\n",
    "axs[0,3].hist(final_data['ratings_two_zero'])\n",
    "axs[0,3].set_title('2.0')\n",
    "\n",
    "axs[0,4].hist(final_data['ratings_two_five'])\n",
    "axs[0,4].set_title('2.5')\n",
    "\n",
    "axs[1,0].hist(final_data['ratings_three_zero'])\n",
    "axs[1,0].set_title('3.0')\n",
    "\n",
    "axs[1,1].hist(final_data['ratings_three_five'])\n",
    "axs[1,1].set_title('3.5')\n",
    "\n",
    "axs[1,2].hist(final_data['ratings_four_zero'])\n",
    "axs[1,2].set_title('4.0')\n",
    "\n",
    "axs[1,3].hist(final_data['ratings_four_five'])\n",
    "axs[1,3].set_title('4.5')\n",
    "\n",
    "axs[1,4].hist(final_data['ratings_five_zero'])\n",
    "axs[1,4].set_title('5')\n"
   ]
  },
  {
   "cell_type": "markdown",
   "metadata": {},
   "source": [
    "### Numeric Correlation"
   ]
  },
  {
   "cell_type": "code",
   "execution_count": 25,
   "metadata": {},
   "outputs": [
    {
     "data": {
      "text/html": [
       "<div>\n",
       "<style scoped>\n",
       "    .dataframe tbody tr th:only-of-type {\n",
       "        vertical-align: middle;\n",
       "    }\n",
       "\n",
       "    .dataframe tbody tr th {\n",
       "        vertical-align: top;\n",
       "    }\n",
       "\n",
       "    .dataframe thead th {\n",
       "        text-align: right;\n",
       "    }\n",
       "</style>\n",
       "<table border=\"1\" class=\"dataframe\">\n",
       "  <thead>\n",
       "    <tr style=\"text-align: right;\">\n",
       "      <th></th>\n",
       "      <th>plays</th>\n",
       "      <th>playing</th>\n",
       "      <th>backlogs</th>\n",
       "      <th>wishlist</th>\n",
       "      <th>total_reviews</th>\n",
       "      <th>total_lists</th>\n",
       "    </tr>\n",
       "  </thead>\n",
       "  <tbody>\n",
       "    <tr>\n",
       "      <th>plays</th>\n",
       "      <td>1.000000</td>\n",
       "      <td>0.641508</td>\n",
       "      <td>0.796693</td>\n",
       "      <td>0.646751</td>\n",
       "      <td>0.918852</td>\n",
       "      <td>0.903415</td>\n",
       "    </tr>\n",
       "    <tr>\n",
       "      <th>playing</th>\n",
       "      <td>0.641508</td>\n",
       "      <td>1.000000</td>\n",
       "      <td>0.696599</td>\n",
       "      <td>0.723841</td>\n",
       "      <td>0.808737</td>\n",
       "      <td>0.715025</td>\n",
       "    </tr>\n",
       "    <tr>\n",
       "      <th>backlogs</th>\n",
       "      <td>0.796693</td>\n",
       "      <td>0.696599</td>\n",
       "      <td>1.000000</td>\n",
       "      <td>0.869720</td>\n",
       "      <td>0.824611</td>\n",
       "      <td>0.913970</td>\n",
       "    </tr>\n",
       "    <tr>\n",
       "      <th>wishlist</th>\n",
       "      <td>0.646751</td>\n",
       "      <td>0.723841</td>\n",
       "      <td>0.869720</td>\n",
       "      <td>1.000000</td>\n",
       "      <td>0.769167</td>\n",
       "      <td>0.836918</td>\n",
       "    </tr>\n",
       "    <tr>\n",
       "      <th>total_reviews</th>\n",
       "      <td>0.918852</td>\n",
       "      <td>0.808737</td>\n",
       "      <td>0.824611</td>\n",
       "      <td>0.769167</td>\n",
       "      <td>1.000000</td>\n",
       "      <td>0.923655</td>\n",
       "    </tr>\n",
       "    <tr>\n",
       "      <th>total_lists</th>\n",
       "      <td>0.903415</td>\n",
       "      <td>0.715025</td>\n",
       "      <td>0.913970</td>\n",
       "      <td>0.836918</td>\n",
       "      <td>0.923655</td>\n",
       "      <td>1.000000</td>\n",
       "    </tr>\n",
       "  </tbody>\n",
       "</table>\n",
       "</div>"
      ],
      "text/plain": [
       "                  plays   playing  backlogs  wishlist  total_reviews  \\\n",
       "plays          1.000000  0.641508  0.796693  0.646751       0.918852   \n",
       "playing        0.641508  1.000000  0.696599  0.723841       0.808737   \n",
       "backlogs       0.796693  0.696599  1.000000  0.869720       0.824611   \n",
       "wishlist       0.646751  0.723841  0.869720  1.000000       0.769167   \n",
       "total_reviews  0.918852  0.808737  0.824611  0.769167       1.000000   \n",
       "total_lists    0.903415  0.715025  0.913970  0.836918       0.923655   \n",
       "\n",
       "               total_lists  \n",
       "plays             0.903415  \n",
       "playing           0.715025  \n",
       "backlogs          0.913970  \n",
       "wishlist          0.836918  \n",
       "total_reviews     0.923655  \n",
       "total_lists       1.000000  "
      ]
     },
     "execution_count": 25,
     "metadata": {},
     "output_type": "execute_result"
    }
   ],
   "source": [
    "final_data[numeric_columns].corr()\n"
   ]
  },
  {
   "cell_type": "code",
   "execution_count": 26,
   "metadata": {},
   "outputs": [
    {
     "data": {
      "text/plain": [
       "<matplotlib.colorbar.Colorbar at 0x285d839d0>"
      ]
     },
     "execution_count": 26,
     "metadata": {},
     "output_type": "execute_result"
    },
    {
     "data": {
      "image/png": "[encoded data removed]",
      "text/plain": [
       "<Figure size 480x480 with 2 Axes>"
      ]
     },
     "metadata": {},
     "output_type": "display_data"
    }
   ],
   "source": [
    "plt.matshow(final_data[numeric_columns].corr())\n",
    "plt.colorbar()\n"
   ]
  },
  {
   "cell_type": "markdown",
   "metadata": {},
   "source": [
    "In order to predict upcoming games, it would be good to drop total_reviews, played and playing - these will not be applicable to upcoming games. \n",
    "\n",
    "total_lists correlates highly with all features - for simplicity we will run the model with only this feature."
   ]
  },
  {
   "cell_type": "markdown",
   "metadata": {},
   "source": [
    "## Ratings_ correlaton check\n",
    "\n",
    "Checking the ratings_ columns to see if they are useful"
   ]
  },
  {
   "cell_type": "code",
   "execution_count": 27,
   "metadata": {},
   "outputs": [
    {
     "data": {
      "text/plain": [
       "<matplotlib.colorbar.Colorbar at 0x29128f040>"
      ]
     },
     "execution_count": 27,
     "metadata": {},
     "output_type": "execute_result"
    },
    {
     "data": {
      "image/png": "[encoded data removed]",
      "text/plain": [
       "<Figure size 480x480 with 2 Axes>"
      ]
     },
     "metadata": {},
     "output_type": "display_data"
    }
   ],
   "source": [
    "# Creating ratings columns\n",
    "ratings_columns = ['ratings_zero_five',\n",
    "       'ratings_one_zero', 'ratings_one_five', 'ratings_two_zero',\n",
    "       'ratings_two_five', 'ratings_three_zero', 'ratings_three_five',\n",
    "       'ratings_four_zero', 'ratings_four_five', 'ratings_five_zero']\n",
    "\n",
    "# Filtering for only upcoming games\n",
    "upcoming_mask_final_data = final_data['release_date'] > pd.Timestamp(datetime.date.today())\n",
    "final_upcoming_games = final_data[upcoming_mask_final_data]\n",
    "\n",
    "plt.matshow(final_upcoming_games[ratings_columns].corr())\n",
    "plt.colorbar()\n"
   ]
  },
  {
   "cell_type": "code",
   "execution_count": 28,
   "metadata": {},
   "outputs": [
    {
     "data": {
      "text/plain": [
       "<matplotlib.colorbar.Colorbar at 0x2913006a0>"
      ]
     },
     "execution_count": 28,
     "metadata": {},
     "output_type": "execute_result"
    },
    {
     "data": {
      "image/png": "[encoded data removed]",
      "text/plain": [
       "<Figure size 480x480 with 2 Axes>"
      ]
     },
     "metadata": {},
     "output_type": "display_data"
    }
   ],
   "source": [
    "# Comparing to corrlelation of all games\n",
    "plt.matshow(final_data[ratings_columns].corr())\n",
    "plt.colorbar()\n"
   ]
  },
  {
   "cell_type": "markdown",
   "metadata": {},
   "source": [
    "The ratings_ features could have been great for recomending current games - but we would have only used 0.5 and 5 star reviews as features, as they are the least correlated with each other. \n",
    "\n",
    "However, this feature should be missing for upcoming games, and will be excluded for now. \n",
    "\n",
    "NOTE: some unreleased games have ratings, so we assume its from a bug on Backlogged"
   ]
  },
  {
   "cell_type": "markdown",
   "metadata": {},
   "source": [
    "### Categorical Data"
   ]
  },
  {
   "cell_type": "code",
   "execution_count": 29,
   "metadata": {},
   "outputs": [],
   "source": [
    "categorical_columns = ['developers', 'genres', 'platforms']\n"
   ]
  },
  {
   "cell_type": "code",
   "execution_count": 30,
   "metadata": {},
   "outputs": [
    {
     "data": {
      "text/html": [
       "<div>\n",
       "<style scoped>\n",
       "    .dataframe tbody tr th:only-of-type {\n",
       "        vertical-align: middle;\n",
       "    }\n",
       "\n",
       "    .dataframe tbody tr th {\n",
       "        vertical-align: top;\n",
       "    }\n",
       "\n",
       "    .dataframe thead th {\n",
       "        text-align: right;\n",
       "    }\n",
       "</style>\n",
       "<table border=\"1\" class=\"dataframe\">\n",
       "  <thead>\n",
       "    <tr style=\"text-align: right;\">\n",
       "      <th></th>\n",
       "      <th>0</th>\n",
       "    </tr>\n",
       "  </thead>\n",
       "  <tbody>\n",
       "    <tr>\n",
       "      <th></th>\n",
       "      <td>6022</td>\n",
       "    </tr>\n",
       "    <tr>\n",
       "      <th>Nintendo</th>\n",
       "      <td>826</td>\n",
       "    </tr>\n",
       "    <tr>\n",
       "      <th>Sega</th>\n",
       "      <td>617</td>\n",
       "    </tr>\n",
       "    <tr>\n",
       "      <th>Konami</th>\n",
       "      <td>591</td>\n",
       "    </tr>\n",
       "    <tr>\n",
       "      <th>Sony Computer Entertainment</th>\n",
       "      <td>471</td>\n",
       "    </tr>\n",
       "    <tr>\n",
       "      <th>Electronic Arts</th>\n",
       "      <td>449</td>\n",
       "    </tr>\n",
       "    <tr>\n",
       "      <th>Capcom</th>\n",
       "      <td>445</td>\n",
       "    </tr>\n",
       "    <tr>\n",
       "      <th>Inc.</th>\n",
       "      <td>360</td>\n",
       "    </tr>\n",
       "    <tr>\n",
       "      <th>Activision</th>\n",
       "      <td>358</td>\n",
       "    </tr>\n",
       "    <tr>\n",
       "      <th>Square Enix</th>\n",
       "      <td>351</td>\n",
       "    </tr>\n",
       "    <tr>\n",
       "      <th>Bandai Namco Entertainment</th>\n",
       "      <td>305</td>\n",
       "    </tr>\n",
       "    <tr>\n",
       "      <th>Ubisoft Entertainment</th>\n",
       "      <td>285</td>\n",
       "    </tr>\n",
       "    <tr>\n",
       "      <th>THQ</th>\n",
       "      <td>283</td>\n",
       "    </tr>\n",
       "    <tr>\n",
       "      <th>Atari</th>\n",
       "      <td>252</td>\n",
       "    </tr>\n",
       "    <tr>\n",
       "      <th>Ltd.</th>\n",
       "      <td>210</td>\n",
       "    </tr>\n",
       "    <tr>\n",
       "      <th>Atlus</th>\n",
       "      <td>195</td>\n",
       "    </tr>\n",
       "    <tr>\n",
       "      <th>Namco</th>\n",
       "      <td>187</td>\n",
       "    </tr>\n",
       "    <tr>\n",
       "      <th>Tec Toy</th>\n",
       "      <td>181</td>\n",
       "    </tr>\n",
       "    <tr>\n",
       "      <th>Bandai</th>\n",
       "      <td>181</td>\n",
       "    </tr>\n",
       "    <tr>\n",
       "      <th>Hudson Soft</th>\n",
       "      <td>160</td>\n",
       "    </tr>\n",
       "    <tr>\n",
       "      <th>EA Sports</th>\n",
       "      <td>143</td>\n",
       "    </tr>\n",
       "    <tr>\n",
       "      <th>Microsoft Game Studios</th>\n",
       "      <td>140</td>\n",
       "    </tr>\n",
       "    <tr>\n",
       "      <th>Taito</th>\n",
       "      <td>122</td>\n",
       "    </tr>\n",
       "    <tr>\n",
       "      <th>SNK</th>\n",
       "      <td>121</td>\n",
       "    </tr>\n",
       "    <tr>\n",
       "      <th>Devolver Digital</th>\n",
       "      <td>119</td>\n",
       "    </tr>\n",
       "    <tr>\n",
       "      <th>NIS America</th>\n",
       "      <td>116</td>\n",
       "    </tr>\n",
       "    <tr>\n",
       "      <th>Playtronic</th>\n",
       "      <td>116</td>\n",
       "    </tr>\n",
       "    <tr>\n",
       "      <th>Bandai Namco Games</th>\n",
       "      <td>115</td>\n",
       "    </tr>\n",
       "    <tr>\n",
       "      <th>Codemasters</th>\n",
       "      <td>108</td>\n",
       "    </tr>\n",
       "    <tr>\n",
       "      <th>Namco Bandai Games</th>\n",
       "      <td>102</td>\n",
       "    </tr>\n",
       "    <tr>\n",
       "      <th>Eidos Interactive</th>\n",
       "      <td>101</td>\n",
       "    </tr>\n",
       "    <tr>\n",
       "      <th>Ubisoft</th>\n",
       "      <td>100</td>\n",
       "    </tr>\n",
       "    <tr>\n",
       "      <th>Focus Entertainment</th>\n",
       "      <td>99</td>\n",
       "    </tr>\n",
       "    <tr>\n",
       "      <th>Sekai Project</th>\n",
       "      <td>98</td>\n",
       "    </tr>\n",
       "    <tr>\n",
       "      <th>Sony Interactive Entertainment</th>\n",
       "      <td>98</td>\n",
       "    </tr>\n",
       "    <tr>\n",
       "      <th>Gradiente</th>\n",
       "      <td>97</td>\n",
       "    </tr>\n",
       "    <tr>\n",
       "      <th>Inc. (SCEI)</th>\n",
       "      <td>97</td>\n",
       "    </tr>\n",
       "    <tr>\n",
       "      <th>WB Games</th>\n",
       "      <td>96</td>\n",
       "    </tr>\n",
       "    <tr>\n",
       "      <th>Gameloft</th>\n",
       "      <td>96</td>\n",
       "    </tr>\n",
       "    <tr>\n",
       "      <th>Sega Enterprises</th>\n",
       "      <td>95</td>\n",
       "    </tr>\n",
       "    <tr>\n",
       "      <th>505 Games</th>\n",
       "      <td>93</td>\n",
       "    </tr>\n",
       "    <tr>\n",
       "      <th>Team17</th>\n",
       "      <td>92</td>\n",
       "    </tr>\n",
       "    <tr>\n",
       "      <th>2K Games</th>\n",
       "      <td>91</td>\n",
       "    </tr>\n",
       "    <tr>\n",
       "      <th>Microsoft Studios</th>\n",
       "      <td>90</td>\n",
       "    </tr>\n",
       "    <tr>\n",
       "      <th>Acclaim Entertainment</th>\n",
       "      <td>88</td>\n",
       "    </tr>\n",
       "    <tr>\n",
       "      <th>Banpresto</th>\n",
       "      <td>86</td>\n",
       "    </tr>\n",
       "    <tr>\n",
       "      <th>Taito Corporation</th>\n",
       "      <td>85</td>\n",
       "    </tr>\n",
       "    <tr>\n",
       "      <th>Ratalaika Games</th>\n",
       "      <td>84</td>\n",
       "    </tr>\n",
       "    <tr>\n",
       "      <th>EastAsiaSoft</th>\n",
       "      <td>84</td>\n",
       "    </tr>\n",
       "    <tr>\n",
       "      <th>Natsume</th>\n",
       "      <td>83</td>\n",
       "    </tr>\n",
       "  </tbody>\n",
       "</table>\n",
       "</div>"
      ],
      "text/plain": [
       "                                   0\n",
       "                                6022\n",
       "Nintendo                         826\n",
       "Sega                             617\n",
       "Konami                           591\n",
       "Sony Computer Entertainment      471\n",
       "Electronic Arts                  449\n",
       "Capcom                           445\n",
       "Inc.                             360\n",
       "Activision                       358\n",
       "Square Enix                      351\n",
       "Bandai Namco Entertainment       305\n",
       "Ubisoft Entertainment            285\n",
       "THQ                              283\n",
       "Atari                            252\n",
       "Ltd.                             210\n",
       "Atlus                            195\n",
       "Namco                            187\n",
       "Tec Toy                          181\n",
       "Bandai                           181\n",
       "Hudson Soft                      160\n",
       "EA Sports                        143\n",
       "Microsoft Game Studios           140\n",
       "Taito                            122\n",
       "SNK                              121\n",
       "Devolver Digital                 119\n",
       "NIS America                      116\n",
       "Playtronic                       116\n",
       "Bandai Namco Games               115\n",
       "Codemasters                      108\n",
       "Namco Bandai Games               102\n",
       "Eidos Interactive                101\n",
       "Ubisoft                          100\n",
       "Focus Entertainment               99\n",
       "Sekai Project                     98\n",
       "Sony Interactive Entertainment    98\n",
       "Gradiente                         97\n",
       "Inc. (SCEI)                       97\n",
       "WB Games                          96\n",
       "Gameloft                          96\n",
       "Sega Enterprises                  95\n",
       "505 Games                         93\n",
       "Team17                            92\n",
       "2K Games                          91\n",
       "Microsoft Studios                 90\n",
       "Acclaim Entertainment             88\n",
       "Banpresto                         86\n",
       "Taito Corporation                 85\n",
       "Ratalaika Games                   84\n",
       "EastAsiaSoft                      84\n",
       "Natsume                           83"
      ]
     },
     "execution_count": 30,
     "metadata": {},
     "output_type": "execute_result"
    }
   ],
   "source": [
    "# Encoding the category\n",
    "mlb_devs = MultiLabelBinarizer()\n",
    "transformed_devs = mlb_devs.fit_transform(final_data['developers'])\n",
    "\n",
    "# Creating and sorting dataframe\n",
    "dev_ohe_colums = pd.DataFrame(transformed_devs, columns=mlb_devs.classes_)\n",
    "popular_devs = pd.DataFrame(dev_ohe_colums.sum().sort_values(ascending=False))\n",
    "popular_devs.head(50)\n"
   ]
  },
  {
   "cell_type": "code",
   "execution_count": 31,
   "metadata": {},
   "outputs": [
    {
     "data": {
      "text/html": [
       "<div>\n",
       "<style scoped>\n",
       "    .dataframe tbody tr th:only-of-type {\n",
       "        vertical-align: middle;\n",
       "    }\n",
       "\n",
       "    .dataframe tbody tr th {\n",
       "        vertical-align: top;\n",
       "    }\n",
       "\n",
       "    .dataframe thead th {\n",
       "        text-align: right;\n",
       "    }\n",
       "</style>\n",
       "<table border=\"1\" class=\"dataframe\">\n",
       "  <thead>\n",
       "    <tr style=\"text-align: right;\">\n",
       "      <th></th>\n",
       "      <th>0</th>\n",
       "    </tr>\n",
       "  </thead>\n",
       "  <tbody>\n",
       "    <tr>\n",
       "      <th>Windows PC</th>\n",
       "      <td>21441</td>\n",
       "    </tr>\n",
       "    <tr>\n",
       "      <th>Mac</th>\n",
       "      <td>6695</td>\n",
       "    </tr>\n",
       "    <tr>\n",
       "      <th>PlayStation 4</th>\n",
       "      <td>5322</td>\n",
       "    </tr>\n",
       "    <tr>\n",
       "      <th>Nintendo Switch</th>\n",
       "      <td>5151</td>\n",
       "    </tr>\n",
       "    <tr>\n",
       "      <th>Xbox One</th>\n",
       "      <td>4328</td>\n",
       "    </tr>\n",
       "    <tr>\n",
       "      <th>Linux</th>\n",
       "      <td>4005</td>\n",
       "    </tr>\n",
       "    <tr>\n",
       "      <th>iOS</th>\n",
       "      <td>3935</td>\n",
       "    </tr>\n",
       "    <tr>\n",
       "      <th>Android</th>\n",
       "      <td>3316</td>\n",
       "    </tr>\n",
       "    <tr>\n",
       "      <th>PlayStation 3</th>\n",
       "      <td>2052</td>\n",
       "    </tr>\n",
       "    <tr>\n",
       "      <th>PlayStation 2</th>\n",
       "      <td>1936</td>\n",
       "    </tr>\n",
       "    <tr>\n",
       "      <th>Web browser</th>\n",
       "      <td>1909</td>\n",
       "    </tr>\n",
       "    <tr>\n",
       "      <th>Xbox 360</th>\n",
       "      <td>1735</td>\n",
       "    </tr>\n",
       "    <tr>\n",
       "      <th>Arcade</th>\n",
       "      <td>1636</td>\n",
       "    </tr>\n",
       "    <tr>\n",
       "      <th>PlayStation 5</th>\n",
       "      <td>1577</td>\n",
       "    </tr>\n",
       "    <tr>\n",
       "      <th>Wii</th>\n",
       "      <td>1442</td>\n",
       "    </tr>\n",
       "    <tr>\n",
       "      <th>Xbox Series</th>\n",
       "      <td>1441</td>\n",
       "    </tr>\n",
       "    <tr>\n",
       "      <th>PlayStation</th>\n",
       "      <td>1361</td>\n",
       "    </tr>\n",
       "    <tr>\n",
       "      <th>Nintendo DS</th>\n",
       "      <td>1083</td>\n",
       "    </tr>\n",
       "    <tr>\n",
       "      <th>PlayStation Vita</th>\n",
       "      <td>1040</td>\n",
       "    </tr>\n",
       "    <tr>\n",
       "      <th>PC DOS</th>\n",
       "      <td>924</td>\n",
       "    </tr>\n",
       "    <tr>\n",
       "      <th>PlayStation Portable</th>\n",
       "      <td>915</td>\n",
       "    </tr>\n",
       "    <tr>\n",
       "      <th>Nintendo 3DS</th>\n",
       "      <td>829</td>\n",
       "    </tr>\n",
       "    <tr>\n",
       "      <th>Xbox</th>\n",
       "      <td>703</td>\n",
       "    </tr>\n",
       "    <tr>\n",
       "      <th>Wii U</th>\n",
       "      <td>695</td>\n",
       "    </tr>\n",
       "    <tr>\n",
       "      <th>Game Boy Advance</th>\n",
       "      <td>613</td>\n",
       "    </tr>\n",
       "  </tbody>\n",
       "</table>\n",
       "</div>"
      ],
      "text/plain": [
       "                          0\n",
       "Windows PC            21441\n",
       "Mac                    6695\n",
       "PlayStation 4          5322\n",
       "Nintendo Switch        5151\n",
       "Xbox One               4328\n",
       "Linux                  4005\n",
       "iOS                    3935\n",
       "Android                3316\n",
       "PlayStation 3          2052\n",
       "PlayStation 2          1936\n",
       "Web browser            1909\n",
       "Xbox 360               1735\n",
       "Arcade                 1636\n",
       "PlayStation 5          1577\n",
       "Wii                    1442\n",
       "Xbox Series            1441\n",
       "PlayStation            1361\n",
       "Nintendo DS            1083\n",
       "PlayStation Vita       1040\n",
       "PC DOS                  924\n",
       "PlayStation Portable    915\n",
       "Nintendo 3DS            829\n",
       "Xbox                    703\n",
       "Wii U                   695\n",
       "Game Boy Advance        613"
      ]
     },
     "execution_count": 31,
     "metadata": {},
     "output_type": "execute_result"
    }
   ],
   "source": [
    "# Encoding the category\n",
    "mlb_plats = MultiLabelBinarizer()\n",
    "transformed_plats = mlb_plats.fit_transform(final_data['platforms'])\n",
    "\n",
    "# Creating and sorting dataframe\n",
    "plats_ohe_colums = pd.DataFrame(transformed_plats, columns=mlb_plats.classes_)\n",
    "popular_plats = pd.DataFrame(plats_ohe_colums.sum().sort_values(ascending=False))\n",
    "popular_plats.head(25)\n"
   ]
  },
  {
   "cell_type": "code",
   "execution_count": 32,
   "metadata": {},
   "outputs": [
    {
     "data": {
      "text/html": [
       "<div>\n",
       "<style scoped>\n",
       "    .dataframe tbody tr th:only-of-type {\n",
       "        vertical-align: middle;\n",
       "    }\n",
       "\n",
       "    .dataframe tbody tr th {\n",
       "        vertical-align: top;\n",
       "    }\n",
       "\n",
       "    .dataframe thead th {\n",
       "        text-align: right;\n",
       "    }\n",
       "</style>\n",
       "<table border=\"1\" class=\"dataframe\">\n",
       "  <thead>\n",
       "    <tr style=\"text-align: right;\">\n",
       "      <th></th>\n",
       "      <th>0</th>\n",
       "    </tr>\n",
       "  </thead>\n",
       "  <tbody>\n",
       "    <tr>\n",
       "      <th>Adventure</th>\n",
       "      <td>13603</td>\n",
       "    </tr>\n",
       "    <tr>\n",
       "      <th>Indie</th>\n",
       "      <td>11973</td>\n",
       "    </tr>\n",
       "    <tr>\n",
       "      <th>RPG</th>\n",
       "      <td>6543</td>\n",
       "    </tr>\n",
       "    <tr>\n",
       "      <th>Simulator</th>\n",
       "      <td>5778</td>\n",
       "    </tr>\n",
       "    <tr>\n",
       "      <th>Puzzle</th>\n",
       "      <td>5548</td>\n",
       "    </tr>\n",
       "    <tr>\n",
       "      <th>Strategy</th>\n",
       "      <td>5302</td>\n",
       "    </tr>\n",
       "    <tr>\n",
       "      <th>Shooter</th>\n",
       "      <td>5282</td>\n",
       "    </tr>\n",
       "    <tr>\n",
       "      <th>Platform</th>\n",
       "      <td>4672</td>\n",
       "    </tr>\n",
       "    <tr>\n",
       "      <th>Arcade</th>\n",
       "      <td>4135</td>\n",
       "    </tr>\n",
       "    <tr>\n",
       "      <th>Sport</th>\n",
       "      <td>2792</td>\n",
       "    </tr>\n",
       "    <tr>\n",
       "      <th>Racing</th>\n",
       "      <td>2138</td>\n",
       "    </tr>\n",
       "    <tr>\n",
       "      <th>Fighting</th>\n",
       "      <td>2109</td>\n",
       "    </tr>\n",
       "    <tr>\n",
       "      <th>Visual Novel</th>\n",
       "      <td>2077</td>\n",
       "    </tr>\n",
       "    <tr>\n",
       "      <th></th>\n",
       "      <td>1786</td>\n",
       "    </tr>\n",
       "    <tr>\n",
       "      <th>Brawler</th>\n",
       "      <td>1581</td>\n",
       "    </tr>\n",
       "    <tr>\n",
       "      <th>Point-and-Click</th>\n",
       "      <td>1448</td>\n",
       "    </tr>\n",
       "    <tr>\n",
       "      <th>Turn Based Strategy</th>\n",
       "      <td>1115</td>\n",
       "    </tr>\n",
       "    <tr>\n",
       "      <th>Music</th>\n",
       "      <td>1014</td>\n",
       "    </tr>\n",
       "    <tr>\n",
       "      <th>Tactical</th>\n",
       "      <td>871</td>\n",
       "    </tr>\n",
       "    <tr>\n",
       "      <th>Real Time Strategy</th>\n",
       "      <td>765</td>\n",
       "    </tr>\n",
       "    <tr>\n",
       "      <th>Card &amp; Board Game</th>\n",
       "      <td>744</td>\n",
       "    </tr>\n",
       "    <tr>\n",
       "      <th>Quiz/Trivia</th>\n",
       "      <td>316</td>\n",
       "    </tr>\n",
       "    <tr>\n",
       "      <th>Pinball</th>\n",
       "      <td>105</td>\n",
       "    </tr>\n",
       "    <tr>\n",
       "      <th>MOBA</th>\n",
       "      <td>40</td>\n",
       "    </tr>\n",
       "  </tbody>\n",
       "</table>\n",
       "</div>"
      ],
      "text/plain": [
       "                         0\n",
       "Adventure            13603\n",
       "Indie                11973\n",
       "RPG                   6543\n",
       "Simulator             5778\n",
       "Puzzle                5548\n",
       "Strategy              5302\n",
       "Shooter               5282\n",
       "Platform              4672\n",
       "Arcade                4135\n",
       "Sport                 2792\n",
       "Racing                2138\n",
       "Fighting              2109\n",
       "Visual Novel          2077\n",
       "                      1786\n",
       "Brawler               1581\n",
       "Point-and-Click       1448\n",
       "Turn Based Strategy   1115\n",
       "Music                 1014\n",
       "Tactical               871\n",
       "Real Time Strategy     765\n",
       "Card & Board Game      744\n",
       "Quiz/Trivia            316\n",
       "Pinball                105\n",
       "MOBA                    40"
      ]
     },
     "execution_count": 32,
     "metadata": {},
     "output_type": "execute_result"
    }
   ],
   "source": [
    "# Encoding the category\n",
    "mlb_genre = MultiLabelBinarizer()\n",
    "transformed_genre = mlb_genre.fit_transform(final_data['genres'])\n",
    "\n",
    "# Creating and sorting dataframe\n",
    "genre_ohe_colums = pd.DataFrame(transformed_genre, columns=mlb_genre.classes_)\n",
    "popular_genre = pd.DataFrame(genre_ohe_colums.sum().sort_values(ascending=False))\n",
    "popular_genre.head(25)\n"
   ]
  },
  {
   "cell_type": "markdown",
   "metadata": {},
   "source": [
    "Developers and platforms will create clustrers in our recommendation model that are too similar. \n",
    "\n",
    "Genre works well, as games can have multiple which could create more divers clusters. We will use all 25 for the baselne model then itterate from there"
   ]
  },
  {
   "cell_type": "code",
   "execution_count": 33,
   "metadata": {},
   "outputs": [
    {
     "data": {
      "text/plain": [
       "Index(['title', 'release_date', 'plays', 'playing', 'backlogs', 'wishlist',\n",
       "       'developers', 'avg_review', 'genres', 'platforms', 'description',\n",
       "       'total_reviews', 'total_lists', 'main', 'ratings_zero_five',\n",
       "       'ratings_one_zero', 'ratings_one_five', 'ratings_two_zero',\n",
       "       'ratings_two_five', 'ratings_three_zero', 'ratings_three_five',\n",
       "       'ratings_four_zero', 'ratings_four_five', 'ratings_five_zero', 'url',\n",
       "       'game_id'],\n",
       "      dtype='object')"
      ]
     },
     "execution_count": 33,
     "metadata": {},
     "output_type": "execute_result"
    }
   ],
   "source": [
    "final_data.columns\n"
   ]
  },
  {
   "cell_type": "code",
   "execution_count": 34,
   "metadata": {},
   "outputs": [],
   "source": [
    "#Save Data as JSON\n",
    "final_data.to_json(\"../raw_data/final_data\", orient='records')\n"
   ]
  },
  {
   "cell_type": "markdown",
   "metadata": {},
   "source": [
    "# Conclusion summary\n",
    "\n",
    "## Features to use in model\n",
    "### Numeric\n",
    "- total_lists\n",
    "- avg_review - target\n",
    "\n",
    "### Categorical\n",
    "- genres - one hot encoded\n",
    "\n",
    "## Features to use in filtering\n",
    "- release_date\n",
    "- platforms\n",
    "- genres\n",
    "\n",
    "## Features to ignore, and why\n",
    "- title - no value\n",
    "- plays, playing, backlogs, total_reviews, ratings_* - these three features are only for released games and will throw bias unreleased games into their own cluster\n",
    "- developers - no value\n",
    "- description - no value, but considering NLP after baseline for more precise genres\n",
    "- main - no value, as only indicates the main game\n",
    "- url + game_id - no value for model. game_id will help us get more data from an API"
   ]
  },
  {
   "cell_type": "markdown",
   "metadata": {},
   "source": []
  }
 ],
 "metadata": {
  "kernelspec": {
   "display_name": "lewagon",
   "language": "python",
   "name": "python3"
  },
  "language_info": {
   "codemirror_mode": {
    "name": "ipython",
    "version": 3
   },
   "file_extension": ".py",
   "mimetype": "text/x-python",
   "name": "python",
   "nbconvert_exporter": "python",
   "pygments_lexer": "ipython3",
   "version": "3.10.6"
  },
  "orig_nbformat": 4
 },
 "nbformat": 4,
 "nbformat_minor": 2
}
