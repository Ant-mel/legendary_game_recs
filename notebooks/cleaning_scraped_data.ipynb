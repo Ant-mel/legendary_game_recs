{
 "cells": [
  {
   "cell_type": "markdown",
   "metadata": {},
   "source": [
    "# When you return\n",
    "\n",
    "You need to remove upcoming games before you drop 0 reviews - try make something for XBOX!"
   ]
  },
  {
   "cell_type": "code",
   "execution_count": 23,
   "metadata": {},
   "outputs": [],
   "source": [
    "import sys\n",
    "import pandas as pd\n",
    "from sklearn.preprocessing import MultiLabelBinarizer\n",
    "\n",
    "sys.path.append(\"/Users/antonis/code/Ant-mel/legendary_game_recs/\")\n",
    "from preprocessing.preprocess_1_cleaning import *\n",
    "from preprocessing.preprocess_2_features import *"
   ]
  },
  {
   "cell_type": "markdown",
   "metadata": {},
   "source": [
    "# Exploring the data"
   ]
  },
  {
   "cell_type": "markdown",
   "metadata": {},
   "source": [
    "Data had to be scraped in small batches else it failed. \n",
    "\n",
    "When scraped during the day, batches would only be 10k as it would crash sooner and the person scraping could take brakes inbetween for whatever reason. \n",
    "\n",
    "For reference - a 10k batch would take 2.5 hours"
   ]
  },
  {
   "cell_type": "code",
   "execution_count": 24,
   "metadata": {},
   "outputs": [],
   "source": [
    "set_1 = pd.read_csv('../raw_data/final_scrape_0to10k')\n",
    "set_2 = pd.read_csv('../raw_data/final_scrape_10kto40k')\n",
    "set_3 = pd.read_csv('../raw_data/final_scrape_40kto50k')\n",
    "set_4 = pd.read_csv('../raw_data/final_scrape_50kto60k')\n",
    "set_5 = pd.read_csv('../raw_data/final_scrape_60kto70k')\n",
    "set_6 = pd.read_csv('../raw_data/final_scrape_70kto80k')\n",
    "set_7 = pd.read_csv('../raw_data/final_scrape_80kto90k')\n",
    "set_8 = pd.read_csv('../raw_data/final_scrape_90kto120k')"
   ]
  },
  {
   "cell_type": "code",
   "execution_count": 25,
   "metadata": {},
   "outputs": [],
   "source": [
    "data = pd.concat((set_1, set_2, set_3, set_4, set_5, set_6, set_7, set_8))"
   ]
  },
  {
   "cell_type": "code",
   "execution_count": 26,
   "metadata": {},
   "outputs": [
    {
     "data": {
      "text/plain": [
       "(111951, 27)"
      ]
     },
     "execution_count": 26,
     "metadata": {},
     "output_type": "execute_result"
    }
   ],
   "source": [
    "data.shape"
   ]
  },
  {
   "cell_type": "code",
   "execution_count": 27,
   "metadata": {},
   "outputs": [
    {
     "data": {
      "text/html": [
       "<div>\n",
       "<style scoped>\n",
       "    .dataframe tbody tr th:only-of-type {\n",
       "        vertical-align: middle;\n",
       "    }\n",
       "\n",
       "    .dataframe tbody tr th {\n",
       "        vertical-align: top;\n",
       "    }\n",
       "\n",
       "    .dataframe thead th {\n",
       "        text-align: right;\n",
       "    }\n",
       "</style>\n",
       "<table border=\"1\" class=\"dataframe\">\n",
       "  <thead>\n",
       "    <tr style=\"text-align: right;\">\n",
       "      <th></th>\n",
       "      <th>title</th>\n",
       "      <th>release_date</th>\n",
       "      <th>plays</th>\n",
       "      <th>playing</th>\n",
       "      <th>backlogs</th>\n",
       "      <th>wishlist</th>\n",
       "      <th>developers</th>\n",
       "      <th>avg_review</th>\n",
       "      <th>genres</th>\n",
       "      <th>platforms</th>\n",
       "      <th>...</th>\n",
       "      <th>ratings_one_five</th>\n",
       "      <th>ratings_two_zero</th>\n",
       "      <th>ratings_two_five</th>\n",
       "      <th>ratings_three_zero</th>\n",
       "      <th>ratings_three_five</th>\n",
       "      <th>ratings_four_zero</th>\n",
       "      <th>ratings_four_five</th>\n",
       "      <th>ratings_five_zero</th>\n",
       "      <th>url</th>\n",
       "      <th>game_id</th>\n",
       "    </tr>\n",
       "  </thead>\n",
       "  <tbody>\n",
       "    <tr>\n",
       "      <th>0</th>\n",
       "      <td>PilotXross</td>\n",
       "      <td>2030-12-20</td>\n",
       "      <td>1</td>\n",
       "      <td>0</td>\n",
       "      <td>2</td>\n",
       "      <td>2</td>\n",
       "      <td>['PilotXross']</td>\n",
       "      <td>0.0</td>\n",
       "      <td>['Indie', 'Racing', 'Sport']</td>\n",
       "      <td>['SteamVR']</td>\n",
       "      <td>...</td>\n",
       "      <td>0</td>\n",
       "      <td>0</td>\n",
       "      <td>0</td>\n",
       "      <td>0</td>\n",
       "      <td>0</td>\n",
       "      <td>0</td>\n",
       "      <td>0</td>\n",
       "      <td>0</td>\n",
       "      <td>/games/pilotxross/</td>\n",
       "      <td>123757</td>\n",
       "    </tr>\n",
       "    <tr>\n",
       "      <th>1</th>\n",
       "      <td>Plague Hunter</td>\n",
       "      <td>2029-02-07</td>\n",
       "      <td>0</td>\n",
       "      <td>0</td>\n",
       "      <td>2</td>\n",
       "      <td>7</td>\n",
       "      <td>[]</td>\n",
       "      <td>0.0</td>\n",
       "      <td>['Adventure', 'Indie']</td>\n",
       "      <td>['Windows PC']</td>\n",
       "      <td>...</td>\n",
       "      <td>0</td>\n",
       "      <td>0</td>\n",
       "      <td>0</td>\n",
       "      <td>0</td>\n",
       "      <td>0</td>\n",
       "      <td>0</td>\n",
       "      <td>0</td>\n",
       "      <td>0</td>\n",
       "      <td>/games/plague-hunter/</td>\n",
       "      <td>106694</td>\n",
       "    </tr>\n",
       "    <tr>\n",
       "      <th>2</th>\n",
       "      <td>The God Slayer</td>\n",
       "      <td>2027-12-31</td>\n",
       "      <td>1</td>\n",
       "      <td>0</td>\n",
       "      <td>1</td>\n",
       "      <td>11</td>\n",
       "      <td>['Pathea Games']</td>\n",
       "      <td>0.0</td>\n",
       "      <td>['RPG']</td>\n",
       "      <td>['PlayStation 5']</td>\n",
       "      <td>...</td>\n",
       "      <td>0</td>\n",
       "      <td>0</td>\n",
       "      <td>0</td>\n",
       "      <td>0</td>\n",
       "      <td>0</td>\n",
       "      <td>0</td>\n",
       "      <td>0</td>\n",
       "      <td>0</td>\n",
       "      <td>/games/the-god-slayer/</td>\n",
       "      <td>259874</td>\n",
       "    </tr>\n",
       "    <tr>\n",
       "      <th>3</th>\n",
       "      <td>Rise of Rebellion</td>\n",
       "      <td>2025-12-31</td>\n",
       "      <td>0</td>\n",
       "      <td>0</td>\n",
       "      <td>0</td>\n",
       "      <td>2</td>\n",
       "      <td>['KODANSHA']</td>\n",
       "      <td>0.0</td>\n",
       "      <td>['Adventure']</td>\n",
       "      <td>['Windows PC']</td>\n",
       "      <td>...</td>\n",
       "      <td>0</td>\n",
       "      <td>0</td>\n",
       "      <td>0</td>\n",
       "      <td>0</td>\n",
       "      <td>0</td>\n",
       "      <td>0</td>\n",
       "      <td>0</td>\n",
       "      <td>0</td>\n",
       "      <td>/games/rise-of-rebellion/</td>\n",
       "      <td>211568</td>\n",
       "    </tr>\n",
       "    <tr>\n",
       "      <th>4</th>\n",
       "      <td>Penny Blood</td>\n",
       "      <td>2025-12-31</td>\n",
       "      <td>1</td>\n",
       "      <td>0</td>\n",
       "      <td>27</td>\n",
       "      <td>124</td>\n",
       "      <td>[]</td>\n",
       "      <td>0.0</td>\n",
       "      <td>['RPG']</td>\n",
       "      <td>['Windows PC', 'PlayStation 5', 'Xbox Series']</td>\n",
       "      <td>...</td>\n",
       "      <td>0</td>\n",
       "      <td>0</td>\n",
       "      <td>0</td>\n",
       "      <td>0</td>\n",
       "      <td>0</td>\n",
       "      <td>0</td>\n",
       "      <td>0</td>\n",
       "      <td>0</td>\n",
       "      <td>/games/penny-blood/</td>\n",
       "      <td>214912</td>\n",
       "    </tr>\n",
       "  </tbody>\n",
       "</table>\n",
       "<p>5 rows × 27 columns</p>\n",
       "</div>"
      ],
      "text/plain": [
       "               title release_date plays playing backlogs wishlist  \\\n",
       "0         PilotXross   2030-12-20     1       0        2        2   \n",
       "1      Plague Hunter   2029-02-07     0       0        2        7   \n",
       "2     The God Slayer   2027-12-31     1       0        1       11   \n",
       "3  Rise of Rebellion   2025-12-31     0       0        0        2   \n",
       "4        Penny Blood   2025-12-31     1       0       27      124   \n",
       "\n",
       "         developers  avg_review                        genres  \\\n",
       "0    ['PilotXross']         0.0  ['Indie', 'Racing', 'Sport']   \n",
       "1                []         0.0        ['Adventure', 'Indie']   \n",
       "2  ['Pathea Games']         0.0                       ['RPG']   \n",
       "3      ['KODANSHA']         0.0                 ['Adventure']   \n",
       "4                []         0.0                       ['RPG']   \n",
       "\n",
       "                                        platforms  ... ratings_one_five  \\\n",
       "0                                     ['SteamVR']  ...                0   \n",
       "1                                  ['Windows PC']  ...                0   \n",
       "2                               ['PlayStation 5']  ...                0   \n",
       "3                                  ['Windows PC']  ...                0   \n",
       "4  ['Windows PC', 'PlayStation 5', 'Xbox Series']  ...                0   \n",
       "\n",
       "  ratings_two_zero ratings_two_five ratings_three_zero ratings_three_five  \\\n",
       "0                0                0                  0                  0   \n",
       "1                0                0                  0                  0   \n",
       "2                0                0                  0                  0   \n",
       "3                0                0                  0                  0   \n",
       "4                0                0                  0                  0   \n",
       "\n",
       "   ratings_four_zero  ratings_four_five  ratings_five_zero  \\\n",
       "0                  0                  0                  0   \n",
       "1                  0                  0                  0   \n",
       "2                  0                  0                  0   \n",
       "3                  0                  0                  0   \n",
       "4                  0                  0                  0   \n",
       "\n",
       "                         url  game_id  \n",
       "0         /games/pilotxross/   123757  \n",
       "1      /games/plague-hunter/   106694  \n",
       "2     /games/the-god-slayer/   259874  \n",
       "3  /games/rise-of-rebellion/   211568  \n",
       "4        /games/penny-blood/   214912  \n",
       "\n",
       "[5 rows x 27 columns]"
      ]
     },
     "execution_count": 27,
     "metadata": {},
     "output_type": "execute_result"
    }
   ],
   "source": [
    "data.head()"
   ]
  },
  {
   "cell_type": "markdown",
   "metadata": {},
   "source": [
    "### Dealing with Duplicates\n",
    "\n",
    "10,000 duplicates!!!"
   ]
  },
  {
   "cell_type": "code",
   "execution_count": 28,
   "metadata": {},
   "outputs": [],
   "source": [
    "# Copying data before adjusting\n",
    "working_data = data.copy()"
   ]
  },
  {
   "cell_type": "code",
   "execution_count": 29,
   "metadata": {},
   "outputs": [
    {
     "data": {
      "text/plain": [
       "859"
      ]
     },
     "execution_count": 29,
     "metadata": {},
     "output_type": "execute_result"
    }
   ],
   "source": [
    "working_data[['title', 'release_date']].duplicated().sum()"
   ]
  },
  {
   "cell_type": "code",
   "execution_count": 30,
   "metadata": {},
   "outputs": [],
   "source": [
    "working_data.drop_duplicates(subset=['title'],inplace=True)"
   ]
  },
  {
   "cell_type": "code",
   "execution_count": 31,
   "metadata": {},
   "outputs": [
    {
     "data": {
      "text/plain": [
       "0"
      ]
     },
     "execution_count": 31,
     "metadata": {},
     "output_type": "execute_result"
    }
   ],
   "source": [
    "working_data[['title']].duplicated().sum()"
   ]
  },
  {
   "cell_type": "markdown",
   "metadata": {},
   "source": [
    "### Incorrect dtypes\n",
    "\n",
    "- release_date - Needs to be a datetime, but not important for the model, only important for the front-end\n",
    "- developers, genres, platforms - change to lists (Currently they are strings that look like lists)\n",
    "- plays, platying, backlogs, wishlists, total_reviews_total_lists - 'k' needs to be removed to make them all int\n"
   ]
  },
  {
   "cell_type": "code",
   "execution_count": 32,
   "metadata": {},
   "outputs": [],
   "source": [
    "# Adjusting 'fake' lists to real lists\n",
    "string_to_list_colums = ['developers','genres','platforms']\n",
    "working_data[string_to_list_colums] = make_list_columns_to_lists(working_data, string_to_list_colums)"
   ]
  },
  {
   "cell_type": "code",
   "execution_count": 33,
   "metadata": {},
   "outputs": [],
   "source": [
    "# Turning numeric object columns into int\n",
    "numeric_columns = ['plays','playing','backlogs','wishlist','total_reviews','total_lists']\n",
    "\n",
    "for col in numeric_columns:\n",
    "    numeric_objects_reformatted(working_data, col)"
   ]
  },
  {
   "cell_type": "markdown",
   "metadata": {},
   "source": [
    "#### Removing games with release date 0001-01-01"
   ]
  },
  {
   "cell_type": "code",
   "execution_count": 34,
   "metadata": {},
   "outputs": [],
   "source": [
    "year_1_mask = working_data['release_date'] == '0001-01-01'"
   ]
  },
  {
   "cell_type": "code",
   "execution_count": 35,
   "metadata": {},
   "outputs": [],
   "source": [
    "games_that_exist = working_data[~year_1_mask]"
   ]
  },
  {
   "cell_type": "code",
   "execution_count": 36,
   "metadata": {},
   "outputs": [
    {
     "data": {
      "text/plain": [
       "(106701, 27)"
      ]
     },
     "execution_count": 36,
     "metadata": {},
     "output_type": "execute_result"
    }
   ],
   "source": [
    "games_that_exist.shape"
   ]
  },
  {
   "cell_type": "markdown",
   "metadata": {},
   "source": [
    "## Dealing with non-main games\n",
    "\n",
    "DLC, expansions and mods should not be part of the video game recomendations (but perhaps something we can do in future❓)"
   ]
  },
  {
   "cell_type": "code",
   "execution_count": 37,
   "metadata": {},
   "outputs": [],
   "source": [
    "# removing main games and dropping categories column \n",
    "# as its no longer useful\n",
    "\n",
    "only_main_games = only_main_games(games_that_exist)"
   ]
  },
  {
   "cell_type": "code",
   "execution_count": 38,
   "metadata": {},
   "outputs": [
    {
     "data": {
      "text/plain": [
       "(93321, 26)"
      ]
     },
     "execution_count": 38,
     "metadata": {},
     "output_type": "execute_result"
    }
   ],
   "source": [
    "only_main_games.shape"
   ]
  },
  {
   "cell_type": "markdown",
   "metadata": {},
   "source": [
    "### Cleaning our y\n",
    "\n",
    "avg_reviews is currently our y\n",
    "\n",
    "In the dataset, 64404 games do not have an avg_review, which means they have been reviewd less than 3 times. \n",
    "\n",
    "We are happy to remove these games as we choose not to recommend games that we assume have not been played buy humans."
   ]
  },
  {
   "cell_type": "code",
   "execution_count": 41,
   "metadata": {},
   "outputs": [],
   "source": [
    "main_games_dattime = change_to_datetype(only_main_games, 'release_date')"
   ]
  },
  {
   "cell_type": "markdown",
   "metadata": {},
   "source": [
    "We need to seperate upcoming games so we can make recommend them to users - these would otherwise be removed as they cannot have reviews, and we drop games with a review score of 0\n",
    "\n",
    "note: Review scores cannot be zero as the lowers review is 0.5"
   ]
  },
  {
   "cell_type": "code",
   "execution_count": 48,
   "metadata": {},
   "outputs": [],
   "source": [
    "upcoming_mask = main_games_dattime['release_date'] > pd.Timestamp(datetime.date.today())\n",
    "upcoming_games = main_games_dattime[upcoming_mask]\n",
    "release_games = main_games_dattime[~upcoming_mask]"
   ]
  },
  {
   "cell_type": "code",
   "execution_count": 50,
   "metadata": {},
   "outputs": [
    {
     "data": {
      "text/plain": [
       "(37153, 26)"
      ]
     },
     "execution_count": 50,
     "metadata": {},
     "output_type": "execute_result"
    }
   ],
   "source": [
    "games_that_exist_with_reviews = remove_no_reviews(release_games)\n",
    "games_that_exist_with_reviews.shape"
   ]
  },
  {
   "cell_type": "markdown",
   "metadata": {},
   "source": [
    "### Creating final dataset"
   ]
  },
  {
   "cell_type": "code",
   "execution_count": 53,
   "metadata": {},
   "outputs": [],
   "source": [
    "final_data = pd.concat((upcoming_games, games_that_exist_with_reviews))"
   ]
  },
  {
   "cell_type": "code",
   "execution_count": null,
   "metadata": {},
   "outputs": [],
   "source": []
  }
 ],
 "metadata": {
  "kernelspec": {
   "display_name": "lewagon",
   "language": "python",
   "name": "python3"
  },
  "language_info": {
   "codemirror_mode": {
    "name": "ipython",
    "version": 3
   },
   "file_extension": ".py",
   "mimetype": "text/x-python",
   "name": "python",
   "nbconvert_exporter": "python",
   "pygments_lexer": "ipython3",
   "version": "3.10.6"
  },
  "orig_nbformat": 4
 },
 "nbformat": 4,
 "nbformat_minor": 2
}
