{
 "cells": [
  {
   "cell_type": "code",
   "execution_count": 1,
   "id": "d8f4ea6a",
   "metadata": {},
   "outputs": [],
   "source": [
    "import pandas as pd\n",
    "import numpy as np\n",
    "from sklearn.preprocessing import MultiLabelBinarizer\n",
    "from datetime import datetime\n",
    "from sklearn.preprocessing import FunctionTransformer\n",
    "from sklearn.compose import ColumnTransformer\n",
    "from sklearn.pipeline import Pipeline\n",
    "\n",
    "from sklearn.impute import SimpleImputer\n",
    "from sklearn.preprocessing import StandardScaler\n",
    "from sklearn.neighbors import KNeighborsRegressor\n",
    "from sklearn.preprocessing import MinMaxScaler\n",
    "\n",
    "from sklearn.pipeline import make_pipeline\n",
    "from sklearn.pipeline import make_union\n",
    "from sklearn.compose import make_column_transformer\n",
    "\n",
    "import sys\n",
    "sys.path.append(\"/home/kieran/code/Ant-mel/legendary_game_recs/\")\n",
    "\n",
    "from preprocessing.preprocess_1_cleaning import *\n",
    "from preprocessing.preprocess_2_features import *\n",
    "from preprocessing.pipeline_the_unification import *"
   ]
  },
  {
   "cell_type": "code",
   "execution_count": 2,
   "id": "83166669",
   "metadata": {},
   "outputs": [],
   "source": [
    "raw_data = pd.read_csv(\"../raw_data/reference_csv_v1.csv\", low_memory=False)\n",
    "topic_data = pd.read_csv(\"../raw_data/topics_v2.csv\", low_memory=False)"
   ]
  },
  {
   "cell_type": "code",
   "execution_count": 3,
   "id": "a0bbc77f",
   "metadata": {},
   "outputs": [],
   "source": [
    "reference_data = make_reference_df_full_csv(raw_data)"
   ]
  },
  {
   "cell_type": "code",
   "execution_count": 4,
   "id": "1cf380d5",
   "metadata": {},
   "outputs": [
    {
     "data": {
      "text/html": [
       "<div>\n",
       "<style scoped>\n",
       "    .dataframe tbody tr th:only-of-type {\n",
       "        vertical-align: middle;\n",
       "    }\n",
       "\n",
       "    .dataframe tbody tr th {\n",
       "        vertical-align: top;\n",
       "    }\n",
       "\n",
       "    .dataframe thead th {\n",
       "        text-align: right;\n",
       "    }\n",
       "</style>\n",
       "<table border=\"1\" class=\"dataframe\">\n",
       "  <thead>\n",
       "    <tr style=\"text-align: right;\">\n",
       "      <th></th>\n",
       "      <th>0</th>\n",
       "      <th>1</th>\n",
       "      <th>2</th>\n",
       "      <th>3</th>\n",
       "      <th>4</th>\n",
       "      <th>5</th>\n",
       "      <th>6</th>\n",
       "      <th>7</th>\n",
       "      <th>8</th>\n",
       "      <th>9</th>\n",
       "    </tr>\n",
       "  </thead>\n",
       "  <tbody>\n",
       "    <tr>\n",
       "      <th>0</th>\n",
       "      <td>1</td>\n",
       "      <td>0</td>\n",
       "      <td>0</td>\n",
       "      <td>0</td>\n",
       "      <td>0</td>\n",
       "      <td>0</td>\n",
       "      <td>0</td>\n",
       "      <td>0</td>\n",
       "      <td>0</td>\n",
       "      <td>0</td>\n",
       "    </tr>\n",
       "    <tr>\n",
       "      <th>1</th>\n",
       "      <td>0</td>\n",
       "      <td>1</td>\n",
       "      <td>0</td>\n",
       "      <td>0</td>\n",
       "      <td>0</td>\n",
       "      <td>0</td>\n",
       "      <td>0</td>\n",
       "      <td>0</td>\n",
       "      <td>0</td>\n",
       "      <td>0</td>\n",
       "    </tr>\n",
       "    <tr>\n",
       "      <th>2</th>\n",
       "      <td>0</td>\n",
       "      <td>0</td>\n",
       "      <td>1</td>\n",
       "      <td>0</td>\n",
       "      <td>0</td>\n",
       "      <td>0</td>\n",
       "      <td>0</td>\n",
       "      <td>0</td>\n",
       "      <td>0</td>\n",
       "      <td>0</td>\n",
       "    </tr>\n",
       "    <tr>\n",
       "      <th>3</th>\n",
       "      <td>0</td>\n",
       "      <td>0</td>\n",
       "      <td>0</td>\n",
       "      <td>0</td>\n",
       "      <td>0</td>\n",
       "      <td>1</td>\n",
       "      <td>0</td>\n",
       "      <td>0</td>\n",
       "      <td>0</td>\n",
       "      <td>0</td>\n",
       "    </tr>\n",
       "    <tr>\n",
       "      <th>4</th>\n",
       "      <td>0</td>\n",
       "      <td>0</td>\n",
       "      <td>0</td>\n",
       "      <td>0</td>\n",
       "      <td>1</td>\n",
       "      <td>0</td>\n",
       "      <td>0</td>\n",
       "      <td>0</td>\n",
       "      <td>0</td>\n",
       "      <td>0</td>\n",
       "    </tr>\n",
       "    <tr>\n",
       "      <th>...</th>\n",
       "      <td>...</td>\n",
       "      <td>...</td>\n",
       "      <td>...</td>\n",
       "      <td>...</td>\n",
       "      <td>...</td>\n",
       "      <td>...</td>\n",
       "      <td>...</td>\n",
       "      <td>...</td>\n",
       "      <td>...</td>\n",
       "      <td>...</td>\n",
       "    </tr>\n",
       "    <tr>\n",
       "      <th>36845</th>\n",
       "      <td>0</td>\n",
       "      <td>0</td>\n",
       "      <td>0</td>\n",
       "      <td>0</td>\n",
       "      <td>0</td>\n",
       "      <td>0</td>\n",
       "      <td>0</td>\n",
       "      <td>0</td>\n",
       "      <td>0</td>\n",
       "      <td>1</td>\n",
       "    </tr>\n",
       "    <tr>\n",
       "      <th>36846</th>\n",
       "      <td>0</td>\n",
       "      <td>0</td>\n",
       "      <td>0</td>\n",
       "      <td>0</td>\n",
       "      <td>0</td>\n",
       "      <td>0</td>\n",
       "      <td>0</td>\n",
       "      <td>0</td>\n",
       "      <td>0</td>\n",
       "      <td>1</td>\n",
       "    </tr>\n",
       "    <tr>\n",
       "      <th>36847</th>\n",
       "      <td>0</td>\n",
       "      <td>0</td>\n",
       "      <td>1</td>\n",
       "      <td>0</td>\n",
       "      <td>0</td>\n",
       "      <td>0</td>\n",
       "      <td>0</td>\n",
       "      <td>0</td>\n",
       "      <td>0</td>\n",
       "      <td>0</td>\n",
       "    </tr>\n",
       "    <tr>\n",
       "      <th>36848</th>\n",
       "      <td>0</td>\n",
       "      <td>0</td>\n",
       "      <td>1</td>\n",
       "      <td>0</td>\n",
       "      <td>0</td>\n",
       "      <td>0</td>\n",
       "      <td>0</td>\n",
       "      <td>0</td>\n",
       "      <td>0</td>\n",
       "      <td>0</td>\n",
       "    </tr>\n",
       "    <tr>\n",
       "      <th>36849</th>\n",
       "      <td>0</td>\n",
       "      <td>1</td>\n",
       "      <td>0</td>\n",
       "      <td>0</td>\n",
       "      <td>0</td>\n",
       "      <td>0</td>\n",
       "      <td>0</td>\n",
       "      <td>0</td>\n",
       "      <td>0</td>\n",
       "      <td>0</td>\n",
       "    </tr>\n",
       "  </tbody>\n",
       "</table>\n",
       "<p>36850 rows × 10 columns</p>\n",
       "</div>"
      ],
      "text/plain": [
       "       0  1  2  3  4  5  6  7  8  9\n",
       "0      1  0  0  0  0  0  0  0  0  0\n",
       "1      0  1  0  0  0  0  0  0  0  0\n",
       "2      0  0  1  0  0  0  0  0  0  0\n",
       "3      0  0  0  0  0  1  0  0  0  0\n",
       "4      0  0  0  0  1  0  0  0  0  0\n",
       "...   .. .. .. .. .. .. .. .. .. ..\n",
       "36845  0  0  0  0  0  0  0  0  0  1\n",
       "36846  0  0  0  0  0  0  0  0  0  1\n",
       "36847  0  0  1  0  0  0  0  0  0  0\n",
       "36848  0  0  1  0  0  0  0  0  0  0\n",
       "36849  0  1  0  0  0  0  0  0  0  0\n",
       "\n",
       "[36850 rows x 10 columns]"
      ]
     },
     "execution_count": 4,
     "metadata": {},
     "output_type": "execute_result"
    }
   ],
   "source": [
    "topic_data"
   ]
  },
  {
   "cell_type": "code",
   "execution_count": 5,
   "id": "6a8a37d7",
   "metadata": {},
   "outputs": [],
   "source": [
    "model_data = make_model_df(reference_data,topic_data)"
   ]
  },
  {
   "cell_type": "code",
   "execution_count": 6,
   "id": "a42572aa",
   "metadata": {},
   "outputs": [],
   "source": [
    "X_train, y_train = make_training_data_yeo(model_data)"
   ]
  },
  {
   "cell_type": "code",
   "execution_count": 7,
   "id": "f8dd9f7e",
   "metadata": {},
   "outputs": [
    {
     "data": {
      "text/plain": [
       "0        1.0\n",
       "1        0.0\n",
       "2        0.0\n",
       "3        0.0\n",
       "4        0.0\n",
       "        ... \n",
       "36845    0.0\n",
       "36846    0.0\n",
       "36847    0.0\n",
       "36848    0.0\n",
       "36849    0.0\n",
       "Name: 20, Length: 36850, dtype: float64"
      ]
     },
     "execution_count": 7,
     "metadata": {},
     "output_type": "execute_result"
    }
   ],
   "source": [
    "X_train[20]"
   ]
  },
  {
   "cell_type": "code",
   "execution_count": 8,
   "id": "3abb2642",
   "metadata": {},
   "outputs": [
    {
     "data": {
      "text/plain": [
       "0        2.2\n",
       "1        3.3\n",
       "2        2.4\n",
       "3        4.5\n",
       "4        2.1\n",
       "        ... \n",
       "36845    3.8\n",
       "36846    2.7\n",
       "36847    2.2\n",
       "36848    2.0\n",
       "36849    3.7\n",
       "Name: 6, Length: 36850, dtype: float64"
      ]
     },
     "execution_count": 8,
     "metadata": {},
     "output_type": "execute_result"
    }
   ],
   "source": [
    "y_train"
   ]
  },
  {
   "cell_type": "markdown",
   "id": "aa219fe4",
   "metadata": {},
   "source": [
    "# Model and Finetuning"
   ]
  },
  {
   "cell_type": "code",
   "execution_count": null,
   "id": "a3d4c30e",
   "metadata": {},
   "outputs": [],
   "source": []
  },
  {
   "cell_type": "code",
   "execution_count": 9,
   "id": "209435f6",
   "metadata": {},
   "outputs": [],
   "source": [
    "# Import the necessary libraries\n",
    "from sklearn.inspection import permutation_importance\n",
    "import pandas as pd\n",
    "import numpy as np\n",
    "from sklearn.neighbors import KNeighborsClassifier  # Import KNeighborsClassifier or KNeighborsRegressor as needed\n",
    "\n",
    "# Fit a KNN model to your data\n",
    "knn_model = KNeighborsRegressor(n_neighbors=11).fit(X_train, y_train)  # You can adjust the number of neighbors (k) as needed\n",
    "# X and y are your feature matrix and target variable\n",
    "\n"
   ]
  },
  {
   "cell_type": "code",
   "execution_count": null,
   "id": "235b75e9",
   "metadata": {},
   "outputs": [],
   "source": [
    "# Perform permutation importance analysis\n",
    "permutation_score = permutation_importance(knn_model, X_train_scaled, y_train, n_repeats=10)\n",
    "\n"
   ]
  },
  {
   "cell_type": "code",
   "execution_count": null,
   "id": "b48cd128",
   "metadata": {},
   "outputs": [],
   "source": [
    "# Create a DataFrame to store the results\n",
    "importance_df = pd.DataFrame(np.vstack((X_train.columns, permutation_score.importances_mean)).T)\n",
    "importance_df.columns = ['feature', 'score_decrease']\n",
    "\n",
    "# Sort the DataFrame by feature importance in descending order\n",
    "importance_df = importance_df.sort_values(by='score_decrease', ascending=False)"
   ]
  },
  {
   "cell_type": "code",
   "execution_count": null,
   "id": "a05f781a",
   "metadata": {},
   "outputs": [],
   "source": [
    "importance_df"
   ]
  },
  {
   "cell_type": "code",
   "execution_count": null,
   "id": "fe06859c",
   "metadata": {},
   "outputs": [],
   "source": []
  },
  {
   "cell_type": "code",
   "execution_count": null,
   "id": "bebfb5da",
   "metadata": {},
   "outputs": [],
   "source": []
  },
  {
   "cell_type": "markdown",
   "id": "dbe85545",
   "metadata": {},
   "source": [
    "# Prediction"
   ]
  },
  {
   "cell_type": "code",
   "execution_count": 10,
   "id": "c737bc68",
   "metadata": {},
   "outputs": [
    {
     "data": {
      "text/html": [
       "<div>\n",
       "<style scoped>\n",
       "    .dataframe tbody tr th:only-of-type {\n",
       "        vertical-align: middle;\n",
       "    }\n",
       "\n",
       "    .dataframe tbody tr th {\n",
       "        vertical-align: top;\n",
       "    }\n",
       "\n",
       "    .dataframe thead th {\n",
       "        text-align: right;\n",
       "    }\n",
       "</style>\n",
       "<table border=\"1\" class=\"dataframe\">\n",
       "  <thead>\n",
       "    <tr style=\"text-align: right;\">\n",
       "      <th></th>\n",
       "      <th>title</th>\n",
       "      <th>release_date</th>\n",
       "      <th>plays</th>\n",
       "      <th>playing</th>\n",
       "      <th>backlogs</th>\n",
       "      <th>wishlist</th>\n",
       "      <th>developers</th>\n",
       "      <th>avg_review</th>\n",
       "      <th>genres</th>\n",
       "      <th>platforms</th>\n",
       "      <th>...</th>\n",
       "      <th>Shooter</th>\n",
       "      <th>Strategy</th>\n",
       "      <th>Platform</th>\n",
       "      <th>Arcade</th>\n",
       "      <th>Sport</th>\n",
       "      <th>gen_1</th>\n",
       "      <th>gen_2</th>\n",
       "      <th>gen_3</th>\n",
       "      <th>link</th>\n",
       "      <th>game_id</th>\n",
       "    </tr>\n",
       "  </thead>\n",
       "  <tbody>\n",
       "    <tr>\n",
       "      <th>11707</th>\n",
       "      <td>The Legend of Zelda: Breath of the Wild</td>\n",
       "      <td>2017-03-03</td>\n",
       "      <td>42000</td>\n",
       "      <td>3500</td>\n",
       "      <td>6600</td>\n",
       "      <td>3400</td>\n",
       "      <td>[Nintendo EPD Production Group No. 3, Nintendo]</td>\n",
       "      <td>4.4</td>\n",
       "      <td>[Adventure, Puzzle, RPG]</td>\n",
       "      <td>[Wii U, Nintendo Switch]</td>\n",
       "      <td>...</td>\n",
       "      <td>0</td>\n",
       "      <td>0</td>\n",
       "      <td>0</td>\n",
       "      <td>0</td>\n",
       "      <td>0</td>\n",
       "      <td>0</td>\n",
       "      <td>0</td>\n",
       "      <td>1</td>\n",
       "      <td>/games/the-legend-of-zelda-breath-of-the-wild/</td>\n",
       "      <td>7346.0</td>\n",
       "    </tr>\n",
       "  </tbody>\n",
       "</table>\n",
       "<p>1 rows × 41 columns</p>\n",
       "</div>"
      ],
      "text/plain": [
       "                                         title release_date  plays  playing  \\\n",
       "11707  The Legend of Zelda: Breath of the Wild   2017-03-03  42000     3500   \n",
       "\n",
       "       backlogs  wishlist                                       developers  \\\n",
       "11707      6600      3400  [Nintendo EPD Production Group No. 3, Nintendo]   \n",
       "\n",
       "       avg_review                    genres                 platforms  ...  \\\n",
       "11707         4.4  [Adventure, Puzzle, RPG]  [Wii U, Nintendo Switch]  ...   \n",
       "\n",
       "      Shooter  Strategy  Platform Arcade  Sport  gen_1  gen_2  gen_3  \\\n",
       "11707       0         0         0      0      0      0      0      1   \n",
       "\n",
       "                                                 link  game_id  \n",
       "11707  /games/the-legend-of-zelda-breath-of-the-wild/   7346.0  \n",
       "\n",
       "[1 rows x 41 columns]"
      ]
     },
     "execution_count": 10,
     "metadata": {},
     "output_type": "execute_result"
    }
   ],
   "source": [
    "reference_data[reference_data['title'] == \"The Legend of Zelda: Breath of the Wild\"]"
   ]
  },
  {
   "cell_type": "code",
   "execution_count": 11,
   "id": "7335b879",
   "metadata": {},
   "outputs": [
    {
     "data": {
      "text/html": [
       "<div>\n",
       "<style scoped>\n",
       "    .dataframe tbody tr th:only-of-type {\n",
       "        vertical-align: middle;\n",
       "    }\n",
       "\n",
       "    .dataframe tbody tr th {\n",
       "        vertical-align: top;\n",
       "    }\n",
       "\n",
       "    .dataframe thead th {\n",
       "        text-align: right;\n",
       "    }\n",
       "</style>\n",
       "<table border=\"1\" class=\"dataframe\">\n",
       "  <thead>\n",
       "    <tr style=\"text-align: right;\">\n",
       "      <th></th>\n",
       "      <th>title</th>\n",
       "      <th>release_date</th>\n",
       "      <th>plays</th>\n",
       "      <th>playing</th>\n",
       "      <th>backlogs</th>\n",
       "      <th>wishlist</th>\n",
       "      <th>developers</th>\n",
       "      <th>avg_review</th>\n",
       "      <th>genres</th>\n",
       "      <th>platforms</th>\n",
       "      <th>...</th>\n",
       "      <th>Shooter</th>\n",
       "      <th>Strategy</th>\n",
       "      <th>Platform</th>\n",
       "      <th>Arcade</th>\n",
       "      <th>Sport</th>\n",
       "      <th>gen_1</th>\n",
       "      <th>gen_2</th>\n",
       "      <th>gen_3</th>\n",
       "      <th>link</th>\n",
       "      <th>game_id</th>\n",
       "    </tr>\n",
       "  </thead>\n",
       "  <tbody>\n",
       "    <tr>\n",
       "      <th>16013</th>\n",
       "      <td>The Sims 4</td>\n",
       "      <td>2014-09-02</td>\n",
       "      <td>12000</td>\n",
       "      <td>640</td>\n",
       "      <td>1000</td>\n",
       "      <td>136</td>\n",
       "      <td>[Electronic Arts, The Sims Studio]</td>\n",
       "      <td>3.1</td>\n",
       "      <td>[RPG, Simulator]</td>\n",
       "      <td>[Windows PC, Mac, PlayStation 4, Xbox One, Pla...</td>\n",
       "      <td>...</td>\n",
       "      <td>0</td>\n",
       "      <td>0</td>\n",
       "      <td>0</td>\n",
       "      <td>0</td>\n",
       "      <td>0</td>\n",
       "      <td>0</td>\n",
       "      <td>0</td>\n",
       "      <td>1</td>\n",
       "      <td>/games/the-sims-4/</td>\n",
       "      <td>3212.0</td>\n",
       "    </tr>\n",
       "  </tbody>\n",
       "</table>\n",
       "<p>1 rows × 41 columns</p>\n",
       "</div>"
      ],
      "text/plain": [
       "            title release_date  plays  playing  backlogs  wishlist  \\\n",
       "16013  The Sims 4   2014-09-02  12000      640      1000       136   \n",
       "\n",
       "                               developers  avg_review            genres  \\\n",
       "16013  [Electronic Arts, The Sims Studio]         3.1  [RPG, Simulator]   \n",
       "\n",
       "                                               platforms  ... Shooter  \\\n",
       "16013  [Windows PC, Mac, PlayStation 4, Xbox One, Pla...  ...       0   \n",
       "\n",
       "       Strategy  Platform Arcade  Sport  gen_1  gen_2  gen_3  \\\n",
       "16013         0         0      0      0      0      0      1   \n",
       "\n",
       "                     link  game_id  \n",
       "16013  /games/the-sims-4/   3212.0  \n",
       "\n",
       "[1 rows x 41 columns]"
      ]
     },
     "execution_count": 11,
     "metadata": {},
     "output_type": "execute_result"
    }
   ],
   "source": [
    "reference_data[reference_data['title'] == \"The Sims 4\"]"
   ]
  },
  {
   "cell_type": "code",
   "execution_count": 12,
   "id": "37691489",
   "metadata": {},
   "outputs": [
    {
     "data": {
      "text/html": [
       "<div>\n",
       "<style scoped>\n",
       "    .dataframe tbody tr th:only-of-type {\n",
       "        vertical-align: middle;\n",
       "    }\n",
       "\n",
       "    .dataframe tbody tr th {\n",
       "        vertical-align: top;\n",
       "    }\n",
       "\n",
       "    .dataframe thead th {\n",
       "        text-align: right;\n",
       "    }\n",
       "</style>\n",
       "<table border=\"1\" class=\"dataframe\">\n",
       "  <thead>\n",
       "    <tr style=\"text-align: right;\">\n",
       "      <th></th>\n",
       "      <th>title</th>\n",
       "      <th>release_date</th>\n",
       "      <th>plays</th>\n",
       "      <th>playing</th>\n",
       "      <th>backlogs</th>\n",
       "      <th>wishlist</th>\n",
       "      <th>developers</th>\n",
       "      <th>avg_review</th>\n",
       "      <th>genres</th>\n",
       "      <th>platforms</th>\n",
       "      <th>...</th>\n",
       "      <th>Shooter</th>\n",
       "      <th>Strategy</th>\n",
       "      <th>Platform</th>\n",
       "      <th>Arcade</th>\n",
       "      <th>Sport</th>\n",
       "      <th>gen_1</th>\n",
       "      <th>gen_2</th>\n",
       "      <th>gen_3</th>\n",
       "      <th>link</th>\n",
       "      <th>game_id</th>\n",
       "    </tr>\n",
       "  </thead>\n",
       "  <tbody>\n",
       "    <tr>\n",
       "      <th>12941</th>\n",
       "      <td>Pokémon Go</td>\n",
       "      <td>2016-07-06</td>\n",
       "      <td>17000</td>\n",
       "      <td>746</td>\n",
       "      <td>267</td>\n",
       "      <td>24</td>\n",
       "      <td>[The Pokémon Company, Niantic Labs]</td>\n",
       "      <td>2.7</td>\n",
       "      <td>[RPG, Simulator]</td>\n",
       "      <td>[Android, iOS]</td>\n",
       "      <td>...</td>\n",
       "      <td>0</td>\n",
       "      <td>0</td>\n",
       "      <td>0</td>\n",
       "      <td>0</td>\n",
       "      <td>0</td>\n",
       "      <td>0</td>\n",
       "      <td>0</td>\n",
       "      <td>1</td>\n",
       "      <td>/games/pokemon-go/</td>\n",
       "      <td>12515.0</td>\n",
       "    </tr>\n",
       "  </tbody>\n",
       "</table>\n",
       "<p>1 rows × 41 columns</p>\n",
       "</div>"
      ],
      "text/plain": [
       "            title release_date  plays  playing  backlogs  wishlist  \\\n",
       "12941  Pokémon Go   2016-07-06  17000      746       267        24   \n",
       "\n",
       "                                developers  avg_review            genres  \\\n",
       "12941  [The Pokémon Company, Niantic Labs]         2.7  [RPG, Simulator]   \n",
       "\n",
       "            platforms  ... Shooter  Strategy  Platform Arcade  Sport  gen_1  \\\n",
       "12941  [Android, iOS]  ...       0         0         0      0      0      0   \n",
       "\n",
       "       gen_2  gen_3                link  game_id  \n",
       "12941      0      1  /games/pokemon-go/  12515.0  \n",
       "\n",
       "[1 rows x 41 columns]"
      ]
     },
     "execution_count": 12,
     "metadata": {},
     "output_type": "execute_result"
    }
   ],
   "source": [
    "reference_data[reference_data['title'] == \"Pokémon Go\"]"
   ]
  },
  {
   "cell_type": "code",
   "execution_count": 13,
   "id": "adf9bb78",
   "metadata": {},
   "outputs": [
    {
     "data": {
      "text/html": [
       "<div>\n",
       "<style scoped>\n",
       "    .dataframe tbody tr th:only-of-type {\n",
       "        vertical-align: middle;\n",
       "    }\n",
       "\n",
       "    .dataframe tbody tr th {\n",
       "        vertical-align: top;\n",
       "    }\n",
       "\n",
       "    .dataframe thead th {\n",
       "        text-align: right;\n",
       "    }\n",
       "</style>\n",
       "<table border=\"1\" class=\"dataframe\">\n",
       "  <thead>\n",
       "    <tr style=\"text-align: right;\">\n",
       "      <th></th>\n",
       "      <th>title</th>\n",
       "      <th>release_date</th>\n",
       "      <th>plays</th>\n",
       "      <th>playing</th>\n",
       "      <th>backlogs</th>\n",
       "      <th>wishlist</th>\n",
       "      <th>developers</th>\n",
       "      <th>avg_review</th>\n",
       "      <th>genres</th>\n",
       "      <th>platforms</th>\n",
       "      <th>...</th>\n",
       "      <th>Shooter</th>\n",
       "      <th>Strategy</th>\n",
       "      <th>Platform</th>\n",
       "      <th>Arcade</th>\n",
       "      <th>Sport</th>\n",
       "      <th>gen_1</th>\n",
       "      <th>gen_2</th>\n",
       "      <th>gen_3</th>\n",
       "      <th>link</th>\n",
       "      <th>game_id</th>\n",
       "    </tr>\n",
       "  </thead>\n",
       "  <tbody>\n",
       "    <tr>\n",
       "      <th>32762</th>\n",
       "      <td>Tetris</td>\n",
       "      <td>1994-12-31</td>\n",
       "      <td>17</td>\n",
       "      <td>0</td>\n",
       "      <td>0</td>\n",
       "      <td>1</td>\n",
       "      <td>[Nokia]</td>\n",
       "      <td>2.5</td>\n",
       "      <td>[Strategy]</td>\n",
       "      <td>[Mobile]</td>\n",
       "      <td>...</td>\n",
       "      <td>0</td>\n",
       "      <td>1</td>\n",
       "      <td>0</td>\n",
       "      <td>0</td>\n",
       "      <td>0</td>\n",
       "      <td>1</td>\n",
       "      <td>0</td>\n",
       "      <td>0</td>\n",
       "      <td>/games/tetris--27/</td>\n",
       "      <td>133912.0</td>\n",
       "    </tr>\n",
       "    <tr>\n",
       "      <th>36268</th>\n",
       "      <td>Tetris</td>\n",
       "      <td>1984-06-06</td>\n",
       "      <td>112</td>\n",
       "      <td>0</td>\n",
       "      <td>20</td>\n",
       "      <td>12</td>\n",
       "      <td>[Alexey Pajitnov]</td>\n",
       "      <td>4.1</td>\n",
       "      <td>[Arcade, Puzzle]</td>\n",
       "      <td>[Legacy Computer]</td>\n",
       "      <td>...</td>\n",
       "      <td>0</td>\n",
       "      <td>0</td>\n",
       "      <td>0</td>\n",
       "      <td>1</td>\n",
       "      <td>0</td>\n",
       "      <td>1</td>\n",
       "      <td>0</td>\n",
       "      <td>0</td>\n",
       "      <td>/games/tetris--4/</td>\n",
       "      <td>130749.0</td>\n",
       "    </tr>\n",
       "  </tbody>\n",
       "</table>\n",
       "<p>2 rows × 41 columns</p>\n",
       "</div>"
      ],
      "text/plain": [
       "        title release_date  plays  playing  backlogs  wishlist  \\\n",
       "32762  Tetris   1994-12-31     17        0         0         1   \n",
       "36268  Tetris   1984-06-06    112        0        20        12   \n",
       "\n",
       "              developers  avg_review            genres          platforms  \\\n",
       "32762            [Nokia]         2.5        [Strategy]           [Mobile]   \n",
       "36268  [Alexey Pajitnov]         4.1  [Arcade, Puzzle]  [Legacy Computer]   \n",
       "\n",
       "       ... Shooter  Strategy  Platform Arcade  Sport  gen_1  gen_2  gen_3  \\\n",
       "32762  ...       0         1         0      0      0      1      0      0   \n",
       "36268  ...       0         0         0      1      0      1      0      0   \n",
       "\n",
       "                     link   game_id  \n",
       "32762  /games/tetris--27/  133912.0  \n",
       "36268   /games/tetris--4/  130749.0  \n",
       "\n",
       "[2 rows x 41 columns]"
      ]
     },
     "execution_count": 13,
     "metadata": {},
     "output_type": "execute_result"
    }
   ],
   "source": [
    "reference_data[reference_data['title'] == \"Tetris\"]"
   ]
  },
  {
   "cell_type": "code",
   "execution_count": 17,
   "id": "14440f82",
   "metadata": {},
   "outputs": [],
   "source": [
    "tetris_array = X_train[36268:36269]"
   ]
  },
  {
   "cell_type": "code",
   "execution_count": 18,
   "id": "7abcbb10",
   "metadata": {},
   "outputs": [],
   "source": [
    "sims4_array = X_train[16013:16014]"
   ]
  },
  {
   "cell_type": "code",
   "execution_count": 19,
   "id": "b58518fc",
   "metadata": {},
   "outputs": [],
   "source": [
    "pokemongo_array = X_train[12941:12942]"
   ]
  },
  {
   "cell_type": "code",
   "execution_count": 26,
   "id": "96fd51bc",
   "metadata": {},
   "outputs": [],
   "source": [
    "zelda_array = X_train[11707:11708]"
   ]
  },
  {
   "cell_type": "code",
   "execution_count": null,
   "id": "2fc49b21",
   "metadata": {},
   "outputs": [],
   "source": [
    " array_inputs = np.concatenate((border_array, zelda_array))"
   ]
  },
  {
   "cell_type": "code",
   "execution_count": 27,
   "id": "a8a116dd",
   "metadata": {},
   "outputs": [],
   "source": [
    "ind_list = list(knn_model.kneighbors(zelda_array,n_neighbors=5000)[1][0])"
   ]
  },
  {
   "cell_type": "code",
   "execution_count": 28,
   "id": "483b76f9",
   "metadata": {
    "scrolled": false
   },
   "outputs": [],
   "source": [
    "output_df = reference_data.iloc[ind_list, :]"
   ]
  },
  {
   "cell_type": "code",
   "execution_count": 30,
   "id": "0c043a11",
   "metadata": {
    "scrolled": false
   },
   "outputs": [
    {
     "data": {
      "text/plain": [
       "Index(['title', 'release_date', 'plays', 'playing', 'backlogs', 'wishlist',\n",
       "       'developers', 'avg_review', 'genres', 'platforms', 'description',\n",
       "       'total_reviews', 'total_lists', 'main', 'ratings_zero_five',\n",
       "       'ratings_one_zero', 'ratings_one_five', 'ratings_two_zero',\n",
       "       'ratings_two_five', 'ratings_three_zero', 'ratings_three_five',\n",
       "       'ratings_four_zero', 'ratings_four_five', 'ratings_five_zero', 'image',\n",
       "       'url', 'Adventure', 'Indie', 'RPG', 'Simulator', 'Puzzle', 'Shooter',\n",
       "       'Strategy', 'Platform', 'Arcade', 'Sport', 'gen_1', 'gen_2', 'gen_3',\n",
       "       'link', 'game_id'],\n",
       "      dtype='object')"
      ]
     },
     "execution_count": 30,
     "metadata": {},
     "output_type": "execute_result"
    }
   ],
   "source": [
    "output_df.columns"
   ]
  },
  {
   "cell_type": "code",
   "execution_count": null,
   "id": "4b9ac21b",
   "metadata": {},
   "outputs": [],
   "source": [
    "year_limit = '1997'"
   ]
  },
  {
   "cell_type": "code",
   "execution_count": null,
   "id": "5aa0cc54",
   "metadata": {},
   "outputs": [],
   "source": [
    "rslt_df = output_df[output_df['release_date'] <= '1997-01-01']"
   ]
  },
  {
   "cell_type": "code",
   "execution_count": null,
   "id": "cd50f798",
   "metadata": {},
   "outputs": [],
   "source": [
    "rslt_df.head(20)"
   ]
  },
  {
   "cell_type": "code",
   "execution_count": null,
   "id": "82714013",
   "metadata": {},
   "outputs": [],
   "source": []
  }
 ],
 "metadata": {
  "kernelspec": {
   "display_name": "Python 3 (ipykernel)",
   "language": "python",
   "name": "python3"
  },
  "language_info": {
   "codemirror_mode": {
    "name": "ipython",
    "version": 3
   },
   "file_extension": ".py",
   "mimetype": "text/x-python",
   "name": "python",
   "nbconvert_exporter": "python",
   "pygments_lexer": "ipython3",
   "version": "3.10.6"
  },
  "toc": {
   "base_numbering": 1,
   "nav_menu": {},
   "number_sections": true,
   "sideBar": true,
   "skip_h1_title": false,
   "title_cell": "Table of Contents",
   "title_sidebar": "Contents",
   "toc_cell": false,
   "toc_position": {},
   "toc_section_display": true,
   "toc_window_display": false
  }
 },
 "nbformat": 4,
 "nbformat_minor": 5
}
