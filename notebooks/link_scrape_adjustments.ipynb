{
 "cells": [
  {
   "cell_type": "code",
   "execution_count": 2,
   "metadata": {},
   "outputs": [],
   "source": [
    "import requests\n",
    "from bs4 import BeautifulSoup\n",
    "import pandas as pd\n",
    "import pickle\n",
    "\n",
    "game_links = []\n",
    "\n",
    "# On the last check, you only need to scrape the first 3337 pages before weird shit arrises\n",
    "pages = range(1,3337,1)"
   ]
  },
  {
   "cell_type": "code",
   "execution_count": null,
   "metadata": {},
   "outputs": [],
   "source": [
    "for page in pages[0:5]:\n",
    "    #Creates the response\n",
    "    resp = requests.get(f\"https://www.backloggd.com/games/lib/release?page={page}\")\n",
    "    sop = BeautifulSoup(resp.content, 'html.parser')"
   ]
  },
  {
   "cell_type": "code",
   "execution_count": 4,
   "metadata": {},
   "outputs": [],
   "source": [
    "resp = requests.get(f\"https://www.backloggd.com/games/lib/release?page={pages[0]}\")\n",
    "sop = BeautifulSoup(resp.content, 'html.parser')"
   ]
  },
  {
   "cell_type": "code",
   "execution_count": 35,
   "metadata": {},
   "outputs": [],
   "source": [
    "links_id = []\n",
    "\n",
    "\n",
    "game_html = sop.find_all('div', class_='card mx-auto game-cover quick-access')\n",
    "for game in game_html:\n",
    "    #Scraping the Backloggd page link and IGDB game_id\n",
    "    link = game.find('a', href=True)['href']\n",
    "    id = game['game_id']\n",
    "    \n",
    "    links_id.append({'link':link, \n",
    "                     'game_id':id})"
   ]
  },
  {
   "cell_type": "code",
   "execution_count": 42,
   "metadata": {},
   "outputs": [],
   "source": [
    "links_id = []\n",
    "\n",
    "for page in pages[:5]:\n",
    "    #Creates the response\n",
    "    resp = requests.get(f\"https://www.backloggd.com/games/lib/release?page={page}\")\n",
    "    sop = BeautifulSoup(resp.content, 'html.parser')\n",
    "    \n",
    "    #Gets the HTML from the page\n",
    "    game_html = sop.find_all('div', class_='card mx-auto game-cover quick-access')\n",
    "    \n",
    "    #Goes through all 36 games on the page, and gets info\n",
    "    for game in game_html:\n",
    "        #Scraping the Backloggd page link and IGDB game_id\n",
    "        link = game.find('a', href=True)['href']\n",
    "        id = game['game_id']\n",
    "        \n",
    "        \n",
    "        links_id.append({'link':link, \n",
    "                        'game_id':id})"
   ]
  },
  {
   "cell_type": "code",
   "execution_count": 44,
   "metadata": {},
   "outputs": [],
   "source": [
    "the_frame = pd.DataFrame(links_id)\n",
    "the_frame.to_csv('../raw_data/all_links_test', index=False)"
   ]
  },
  {
   "cell_type": "code",
   "execution_count": 45,
   "metadata": {},
   "outputs": [
    {
     "data": {
      "text/html": [
       "<div>\n",
       "<style scoped>\n",
       "    .dataframe tbody tr th:only-of-type {\n",
       "        vertical-align: middle;\n",
       "    }\n",
       "\n",
       "    .dataframe tbody tr th {\n",
       "        vertical-align: top;\n",
       "    }\n",
       "\n",
       "    .dataframe thead th {\n",
       "        text-align: right;\n",
       "    }\n",
       "</style>\n",
       "<table border=\"1\" class=\"dataframe\">\n",
       "  <thead>\n",
       "    <tr style=\"text-align: right;\">\n",
       "      <th></th>\n",
       "      <th>link</th>\n",
       "      <th>game_id</th>\n",
       "    </tr>\n",
       "  </thead>\n",
       "  <tbody>\n",
       "    <tr>\n",
       "      <th>0</th>\n",
       "      <td>/games/pilotxross/</td>\n",
       "      <td>123757</td>\n",
       "    </tr>\n",
       "    <tr>\n",
       "      <th>1</th>\n",
       "      <td>/games/plague-hunter/</td>\n",
       "      <td>106694</td>\n",
       "    </tr>\n",
       "    <tr>\n",
       "      <th>2</th>\n",
       "      <td>/games/the-god-slayer/</td>\n",
       "      <td>259874</td>\n",
       "    </tr>\n",
       "    <tr>\n",
       "      <th>3</th>\n",
       "      <td>/games/rise-of-rebellion/</td>\n",
       "      <td>211568</td>\n",
       "    </tr>\n",
       "    <tr>\n",
       "      <th>4</th>\n",
       "      <td>/games/penny-blood/</td>\n",
       "      <td>214912</td>\n",
       "    </tr>\n",
       "    <tr>\n",
       "      <th>...</th>\n",
       "      <td>...</td>\n",
       "      <td>...</td>\n",
       "    </tr>\n",
       "    <tr>\n",
       "      <th>175</th>\n",
       "      <td>/games/tale-of-two-sardines/</td>\n",
       "      <td>219564</td>\n",
       "    </tr>\n",
       "    <tr>\n",
       "      <th>176</th>\n",
       "      <td>/games/final-frame/</td>\n",
       "      <td>133159</td>\n",
       "    </tr>\n",
       "    <tr>\n",
       "      <th>177</th>\n",
       "      <td>/games/errand-boy/</td>\n",
       "      <td>127883</td>\n",
       "    </tr>\n",
       "    <tr>\n",
       "      <th>178</th>\n",
       "      <td>/games/forgotlings/</td>\n",
       "      <td>252346</td>\n",
       "    </tr>\n",
       "    <tr>\n",
       "      <th>179</th>\n",
       "      <td>/games/erenshor/</td>\n",
       "      <td>245825</td>\n",
       "    </tr>\n",
       "  </tbody>\n",
       "</table>\n",
       "<p>180 rows × 2 columns</p>\n",
       "</div>"
      ],
      "text/plain": [
       "                             link  game_id\n",
       "0              /games/pilotxross/   123757\n",
       "1           /games/plague-hunter/   106694\n",
       "2          /games/the-god-slayer/   259874\n",
       "3       /games/rise-of-rebellion/   211568\n",
       "4             /games/penny-blood/   214912\n",
       "..                            ...      ...\n",
       "175  /games/tale-of-two-sardines/   219564\n",
       "176           /games/final-frame/   133159\n",
       "177            /games/errand-boy/   127883\n",
       "178           /games/forgotlings/   252346\n",
       "179              /games/erenshor/   245825\n",
       "\n",
       "[180 rows x 2 columns]"
      ]
     },
     "execution_count": 45,
     "metadata": {},
     "output_type": "execute_result"
    }
   ],
   "source": [
    "pd.read_csv('../raw_data/all_links_test')"
   ]
  },
  {
   "cell_type": "code",
   "execution_count": null,
   "metadata": {},
   "outputs": [],
   "source": [
    "for page in pages:\n",
    "    resp = requests.get(f\"https://www.backloggd.com/games/lib/release?page={page}\")\n",
    "    sop = BeautifulSoup(resp.content, 'html.parser')\n",
    "    game_html = sop.find_all('div', class_='col-2 my-2 px-1 px-md-2')\n",
    "    for game in game_html:\n",
    "        link = game.find('a', href=True)['href']\n",
    "        print(link)\n",
    "        game_links.append(link)"
   ]
  }
 ],
 "metadata": {
  "kernelspec": {
   "display_name": "lewagon",
   "language": "python",
   "name": "python3"
  },
  "language_info": {
   "codemirror_mode": {
    "name": "ipython",
    "version": 3
   },
   "file_extension": ".py",
   "mimetype": "text/x-python",
   "name": "python",
   "nbconvert_exporter": "python",
   "pygments_lexer": "ipython3",
   "version": "3.10.6"
  },
  "orig_nbformat": 4
 },
 "nbformat": 4,
 "nbformat_minor": 2
}
