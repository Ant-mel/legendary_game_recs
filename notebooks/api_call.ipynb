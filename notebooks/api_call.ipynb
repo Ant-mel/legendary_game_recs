{
 "cells": [
  {
   "cell_type": "code",
   "execution_count": 54,
   "metadata": {},
   "outputs": [],
   "source": [
    "import pandas as pd\n",
    "import requests\n",
    "from igdb.wrapper import IGDBWrapper\n",
    "import json"
   ]
  },
  {
   "cell_type": "markdown",
   "metadata": {},
   "source": [
    "# Credentials for the API"
   ]
  },
  {
   "cell_type": "code",
   "execution_count": 12,
   "metadata": {},
   "outputs": [],
   "source": [
    "CLIENT_ID = 'in5z4wa991pacj8hzp3hx2ao016906'\n",
    "CLIENT_SECRET = 'i2w5q0z709w9dd35mdbt2yrnr0yv20'\n",
    "GRANT_TYPE = 'client_credentials'"
   ]
  },
  {
   "cell_type": "markdown",
   "metadata": {},
   "source": [
    "# First contact with API!!"
   ]
  },
  {
   "cell_type": "code",
   "execution_count": 23,
   "metadata": {},
   "outputs": [],
   "source": [
    "url = 'https://id.twitch.tv/oauth2/token'\n",
    "\n",
    "# Couldn't figure out how to use this yet\n",
    "# params = {'client_id':CLIENT_ID, 'client_secret':CLIENT_SECRET, 'grant_type':GRANT_TYPE}"
   ]
  },
  {
   "cell_type": "code",
   "execution_count": 24,
   "metadata": {},
   "outputs": [
    {
     "data": {
      "text/plain": [
       "{'access_token': 'hhcxt7rs0tyqw6484tr64iuwwxsk07',\n",
       " 'expires_in': 4914304,\n",
       " 'token_type': 'bearer'}"
      ]
     },
     "execution_count": 24,
     "metadata": {},
     "output_type": "execute_result"
    }
   ],
   "source": [
    "response = requests.post(f'https://id.twitch.tv/oauth2/token?client_id={CLIENT_ID}&client_secret={CLIENT_SECRET}&grant_type={GRANT_TYPE}')\n",
    "\n",
    "response_status = response.status_code\n",
    "\n",
    "response_json = response.json()\n",
    "response_json"
   ]
  },
  {
   "cell_type": "code",
   "execution_count": 25,
   "metadata": {},
   "outputs": [],
   "source": [
    "ACCESS_TOKEN = response_json['access_token']"
   ]
  },
  {
   "cell_type": "markdown",
   "metadata": {},
   "source": [
    "# Testing out Endpoints"
   ]
  },
  {
   "cell_type": "code",
   "execution_count": 41,
   "metadata": {},
   "outputs": [],
   "source": [
    "body = 'fields *; limit 20;'\n",
    "\n",
    "headers = {'Client-ID':CLIENT_ID, 'Authorization':f'Bearer {ACCESS_TOKEN}', 'Body': body}\n",
    "\n",
    "# base_url = 'https://api.igdb.com/v4'\n",
    "\n",
    "call_response = requests.post('https://api.igdb.com/v4/games', headers=headers)"
   ]
  },
  {
   "cell_type": "code",
   "execution_count": 43,
   "metadata": {},
   "outputs": [
    {
     "data": {
      "text/plain": [
       "[{'id': 121973},\n",
       " {'id': 2563},\n",
       " {'id': 85450},\n",
       " {'id': 95080},\n",
       " {'id': 142745},\n",
       " {'id': 104748},\n",
       " {'id': 89616},\n",
       " {'id': 91579},\n",
       " {'id': 246925},\n",
       " {'id': 263822}]"
      ]
     },
     "execution_count": 43,
     "metadata": {},
     "output_type": "execute_result"
    }
   ],
   "source": [
    "call_response.json()"
   ]
  },
  {
   "cell_type": "markdown",
   "metadata": {},
   "source": [
    "TEST RESULTS WERE A FAIL!!! 🚷"
   ]
  },
  {
   "cell_type": "markdown",
   "metadata": {},
   "source": [
    "# Trying IGDB wrapper"
   ]
  },
  {
   "cell_type": "code",
   "execution_count": 45,
   "metadata": {},
   "outputs": [],
   "source": [
    "wrapper = IGDBWrapper(CLIENT_ID, ACCESS_TOKEN)"
   ]
  },
  {
   "cell_type": "markdown",
   "metadata": {},
   "source": [
    "The below code has the game features we are looking for"
   ]
  },
  {
   "cell_type": "code",
   "execution_count": 67,
   "metadata": {},
   "outputs": [],
   "source": [
    "features = json.loads(wrapper.api_request('games', \n",
    "                    'fields aggregated_rating,aggregated_rating_count, game_engines.name, game_modes.name, multiplayer_modes, player_perspectives.name, themes.name; where name = \"Sea of Stars\";'))"
   ]
  },
  {
   "cell_type": "code",
   "execution_count": 71,
   "metadata": {},
   "outputs": [
    {
     "data": {
      "text/plain": [
       "{'id': 131890,\n",
       " 'aggregated_rating': 88.6,\n",
       " 'aggregated_rating_count': 8,\n",
       " 'game_engines': [{'id': 13, 'name': 'Unity'}],\n",
       " 'game_modes': [{'id': 1, 'name': 'Single player'}],\n",
       " 'player_perspectives': [{'id': 3, 'name': 'Bird view / Isometric'}],\n",
       " 'themes': [{'id': 17, 'name': 'Fantasy'}, {'id': 38, 'name': 'Open world'}]}"
      ]
     },
     "execution_count": 71,
     "metadata": {},
     "output_type": "execute_result"
    }
   ],
   "source": [
    "features[0]"
   ]
  },
  {
   "cell_type": "code",
   "execution_count": 77,
   "metadata": {},
   "outputs": [
    {
     "data": {
      "text/plain": [
       "'Unity'"
      ]
     },
     "execution_count": 77,
     "metadata": {},
     "output_type": "execute_result"
    }
   ],
   "source": [
    "features[0]['game_engines'][0]['name']"
   ]
  },
  {
   "cell_type": "code",
   "execution_count": 86,
   "metadata": {},
   "outputs": [
    {
     "data": {
      "text/plain": [
       "range(0, 1)"
      ]
     },
     "execution_count": 86,
     "metadata": {},
     "output_type": "execute_result"
    }
   ],
   "source": [
    "range(1)"
   ]
  },
  {
   "cell_type": "code",
   "execution_count": 84,
   "metadata": {},
   "outputs": [
    {
     "data": {
      "text/plain": [
       "'Fantasy'"
      ]
     },
     "execution_count": 84,
     "metadata": {},
     "output_type": "execute_result"
    }
   ],
   "source": [
    "features[0]['themes'][0]['name']"
   ]
  },
  {
   "cell_type": "code",
   "execution_count": 89,
   "metadata": {},
   "outputs": [
    {
     "name": "stdout",
     "output_type": "stream",
     "text": [
      "Fantasy\n",
      "Open world\n"
     ]
    },
    {
     "ename": "IndexError",
     "evalue": "list index out of range",
     "output_type": "error",
     "traceback": [
      "\u001b[0;31m---------------------------------------------------------------------------\u001b[0m",
      "\u001b[0;31mIndexError\u001b[0m                                Traceback (most recent call last)",
      "\u001b[1;32m/Users/antonis/code/Ant-mel/legendary_game_recs/notebooks/api_call.ipynb Cell 20\u001b[0m in \u001b[0;36m2\n\u001b[1;32m      <a href='vscode-notebook-cell:/Users/antonis/code/Ant-mel/legendary_game_recs/notebooks/api_call.ipynb#X41sZmlsZQ%3D%3D?line=0'>1</a>\u001b[0m \u001b[39mfor\u001b[39;00m i \u001b[39min\u001b[39;00m \u001b[39mrange\u001b[39m(\u001b[39mlen\u001b[39m(features[\u001b[39m0\u001b[39m])\u001b[39m-\u001b[39m\u001b[39m1\u001b[39m):\n\u001b[0;32m----> <a href='vscode-notebook-cell:/Users/antonis/code/Ant-mel/legendary_game_recs/notebooks/api_call.ipynb#X41sZmlsZQ%3D%3D?line=1'>2</a>\u001b[0m     feat \u001b[39m=\u001b[39m features[\u001b[39m0\u001b[39;49m][\u001b[39m'\u001b[39;49m\u001b[39mthemes\u001b[39;49m\u001b[39m'\u001b[39;49m][i][\u001b[39m'\u001b[39m\u001b[39mname\u001b[39m\u001b[39m'\u001b[39m]\n\u001b[1;32m      <a href='vscode-notebook-cell:/Users/antonis/code/Ant-mel/legendary_game_recs/notebooks/api_call.ipynb#X41sZmlsZQ%3D%3D?line=2'>3</a>\u001b[0m     \u001b[39mprint\u001b[39m(feat)\n",
      "\u001b[0;31mIndexError\u001b[0m: list index out of range"
     ]
    }
   ],
   "source": [
    "for i in range(len(features[0])-1):\n",
    "    feat = features[0]['themes'][i]['name']\n",
    "    print(feat)"
   ]
  },
  {
   "cell_type": "code",
   "execution_count": null,
   "metadata": {},
   "outputs": [],
   "source": []
  }
 ],
 "metadata": {
  "kernelspec": {
   "display_name": "lewagon",
   "language": "python",
   "name": "python3"
  },
  "language_info": {
   "codemirror_mode": {
    "name": "ipython",
    "version": 3
   },
   "file_extension": ".py",
   "mimetype": "text/x-python",
   "name": "python",
   "nbconvert_exporter": "python",
   "pygments_lexer": "ipython3",
   "version": "3.10.6"
  },
  "orig_nbformat": 4
 },
 "nbformat": 4,
 "nbformat_minor": 2
}
