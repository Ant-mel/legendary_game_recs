{
 "cells": [
  {
   "cell_type": "code",
   "execution_count": 1,
   "id": "a781b789",
   "metadata": {},
   "outputs": [],
   "source": [
    "import pandas as pd"
   ]
  },
  {
   "cell_type": "code",
   "execution_count": 4,
   "id": "cd247dc2",
   "metadata": {},
   "outputs": [],
   "source": [
    "raw_1 = pd.read_csv('../raw_data/all_data_batch_0to30k')\n",
    "raw_2 = pd.read_csv('../raw_data/all_data_batch1_30to60k')\n",
    "raw_3 = pd.read_csv('../raw_data/all_data_batch_60kto70k')\n",
    "raw_4 = pd.read_csv('../raw_data/all_data_batch_70kto80k')\n",
    "raw_5 = pd.read_csv('../raw_data/all_data_batch_80kto90k')\n",
    "raw_5 = pd.read_csv('../raw_data/all_data_batch_90kto120k')"
   ]
  },
  {
   "cell_type": "code",
   "execution_count": 9,
   "id": "e14d96a0",
   "metadata": {},
   "outputs": [],
   "source": [
    "data = pd.concat((raw_1, raw_2, raw_3, raw_4, raw_5), ignore_index=True)"
   ]
  },
  {
   "cell_type": "code",
   "execution_count": 11,
   "id": "cd596060",
   "metadata": {},
   "outputs": [],
   "source": [
    "data.to_csv('../raw_data/all_game_data_v1', index=False)"
   ]
  },
  {
   "cell_type": "code",
   "execution_count": null,
   "id": "f460e3c0",
   "metadata": {},
   "outputs": [],
   "source": []
  }
 ],
 "metadata": {
  "kernelspec": {
   "display_name": "Python 3 (ipykernel)",
   "language": "python",
   "name": "python3"
  },
  "language_info": {
   "codemirror_mode": {
    "name": "ipython",
    "version": 3
   },
   "file_extension": ".py",
   "mimetype": "text/x-python",
   "name": "python",
   "nbconvert_exporter": "python",
   "pygments_lexer": "ipython3",
   "version": "3.10.6"
  },
  "toc": {
   "base_numbering": 1,
   "nav_menu": {},
   "number_sections": true,
   "sideBar": true,
   "skip_h1_title": false,
   "title_cell": "Table of Contents",
   "title_sidebar": "Contents",
   "toc_cell": false,
   "toc_position": {},
   "toc_section_display": true,
   "toc_window_display": false
  }
 },
 "nbformat": 4,
 "nbformat_minor": 5
}
