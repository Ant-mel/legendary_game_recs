{
 "cells": [
  {
   "cell_type": "code",
   "execution_count": 1,
   "metadata": {},
   "outputs": [],
   "source": [
    "import os\n",
    "import sys\n",
    "import pandas as pd\n",
    "import requests\n",
    "from igdb.wrapper import IGDBWrapper\n",
    "import json\n",
    "import matplotlib.pyplot as plt\n",
    "sys.path.append(\"/Users/antonis/code/Ant-mel/legendary_game_recs/\")\n",
    "from preprocessing.preprocess_1_cleaning import *"
   ]
  },
  {
   "cell_type": "code",
   "execution_count": 2,
   "metadata": {},
   "outputs": [],
   "source": [
    "game_df= pd.read_json('../raw_data/reference_df_v1', orient='records', lines=True)"
   ]
  },
  {
   "cell_type": "code",
   "execution_count": 16,
   "metadata": {},
   "outputs": [
    {
     "data": {
      "text/plain": [
       "178780.0"
      ]
     },
     "execution_count": 16,
     "metadata": {},
     "output_type": "execute_result"
    }
   ],
   "source": [
    "list_of_game_id = game_df['game_id']\n",
    "list_of_game_id[0]"
   ]
  },
  {
   "cell_type": "code",
   "execution_count": 36,
   "metadata": {},
   "outputs": [],
   "source": [
    "CLIENT_ID = os.getenv(\"CLIENT_ID\")\n",
    "CLIENT_SECRET = os.getenv(\"CLIENT_SECRET\")\n",
    "GRANT_TYPE = os.getenv(\"GRANT_TYPE\")\n",
    "\n",
    "response = requests.post(f'https://id.twitch.tv/oauth2/token?client_id={CLIENT_ID}&client_secret={CLIENT_SECRET}&grant_type={GRANT_TYPE}')\n",
    "response_json = response.json()\n",
    "ACCESS_TOKEN = response_json['access_token']\n",
    "\n",
    "\n",
    "#This is a wrapper from IGDB just for their API\n",
    "wrapper = IGDBWrapper(CLIENT_ID, ACCESS_TOKEN)\n",
    "\n",
    "no_data = []\n",
    "list_sons = []\n",
    "\n",
    "# the_feat = json.loads(wrapper.api_request('games',\n",
    "#                  f'fields franchise, storyline; where id = {int(list_of_game_id[0])};'))\n",
    "\n",
    "\n",
    "for game in list_of_game_id[:10]:\n",
    "    try:\n",
    "        the_feat = json.loads(wrapper.api_request('games',\n",
    "                f'fields franchise, storyline; where id = {int(game)};'))\n",
    "        list_sons.append(the_feat[0])\n",
    "\n",
    "    except:\n",
    "        print('fail')\n",
    "        no_data.append(game)"
   ]
  },
  {
   "cell_type": "code",
   "execution_count": 37,
   "metadata": {},
   "outputs": [
    {
     "data": {
      "text/plain": [
       "[{'id': 178780,\n",
       "  'storyline': \"Sinister or sweet? Pick your poison...\\n\\nOn one fateful night in the middle of winter, a lonely soul's wish is granted. In a world where everything is often black or white, which path will you take when you encounter the living, breathing version of a love interest from the most recent visual novel that you've been playing?\"},\n",
       " {'id': 147184},\n",
       " {'id': 24611,\n",
       "  'storyline': 'The game starts off with the player character awakening in a strange land with no knowledge of their past. From there, the players are offered the chance to explore the lush, intricate, and dangerous open world, be it through hunting, gathering, or finding allies. Encounters with distinct tribes will encourage interactions, whether friendly or aggressive, as the players shape the evolving world to fit their own medieval feudal vision.'},\n",
       " {'id': 256293},\n",
       " {'id': 140133,\n",
       "  'storyline': 'Explore the Perimeter in any way you like with an open non-linear area, where you can let your curiosity and deduction guide all your next steps as you play.'},\n",
       " {'id': 153550},\n",
       " {'id': 192702},\n",
       " {'id': 72812},\n",
       " {'id': 135732,\n",
       "  'storyline': \"Dark Fracture takes place in the late '90s, set in an isolated forested region in the rural USA. You are put in the shoes of Edward: a body farm employee who is pained by his past, and only finding solace in the medicine that helps him get through the day. Edward is barely able to cope with his personal issues, which are only intensified by him living in solitude. He puts on a brave front and dutifully wakes up for work every day. His routine serves as his only anchor, but deep inside, trouble is simmering...\\n\\nOne night, while working the dreaded midnight shift, a chain of disturbing events draws Edward ever close to losing his grip on reality. As the very fabric of his world seems to unravel and twist. His home of the past few years is being pulled from under his feet. The cruel hand of fate once more nudging him towards disaster. One that threatens to engulf Edward's home in shadow.\\n\\nIs it merely his mind playing tricks on him? Or perhaps there truly is something darker clawing at his heels, threatening to drag him into the depths? We're counting on you to figure it out: The choices you make will shape the results of his terrifying tale. Trapped between a world of horrors inspired by the works of ones such as H.R. Giger, and the unkind reality of the body farm from whence he came. Survive a twofold nightmare in Dark Fracture!\"},\n",
       " {'id': 143627}]"
      ]
     },
     "execution_count": 37,
     "metadata": {},
     "output_type": "execute_result"
    }
   ],
   "source": [
    "list_sons"
   ]
  },
  {
   "cell_type": "code",
   "execution_count": null,
   "metadata": {},
   "outputs": [],
   "source": []
  }
 ],
 "metadata": {
  "kernelspec": {
   "display_name": "lewagon",
   "language": "python",
   "name": "python3"
  },
  "language_info": {
   "codemirror_mode": {
    "name": "ipython",
    "version": 3
   },
   "file_extension": ".py",
   "mimetype": "text/x-python",
   "name": "python",
   "nbconvert_exporter": "python",
   "pygments_lexer": "ipython3",
   "version": "3.10.6"
  },
  "orig_nbformat": 4
 },
 "nbformat": 4,
 "nbformat_minor": 2
}
